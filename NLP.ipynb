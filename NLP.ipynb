{
  "nbformat": 4,
  "nbformat_minor": 0,
  "metadata": {
    "colab": {
      "provenance": []
    },
    "kernelspec": {
      "name": "python3",
      "display_name": "Python 3"
    },
    "language_info": {
      "name": "python"
    }
  },
  "cells": [
    {
      "cell_type": "markdown",
      "source": [
        "## **AG News Classification Dataset**\n"
      ],
      "metadata": {
        "id": "hDS72pH7ZAd6"
      }
    },
    {
      "cell_type": "markdown",
      "source": [
        "Group: The Spicy Anacondas"
      ],
      "metadata": {
        "id": "xzTNxqusZI0b"
      }
    },
    {
      "cell_type": "markdown",
      "source": [
        "# Introduction & Data Exploration"
      ],
      "metadata": {
        "id": "GcHHR8fPZVsI"
      }
    },
    {
      "cell_type": "markdown",
      "source": [
        "AG is a collection of more than 1 million news articles. News articles have been gathered from more than 2000 news sources by ComeToMyHead in more than 1 year of activity. ComeToMyHead is an academic news search engine which has been running since July, 2004.\n",
        "\n",
        "The AG's news topic classification dataset is constructed by choosing 4 largest classes from the original corpus. Each class contains 30,000 training samples and 1,900 testing samples. The total number of training samples is 120,000 and testing 7,600.\n",
        "\n",
        "The file classes.txt contains a list of classes corresponding to each label.\n",
        "\n",
        "The files train.csv and test.csv contain all the training samples as comma-sparated values. There are 3 columns in them, corresponding to class index (1 to 4), title and description. The title and description are escaped using double quotes (\"), and any internal double quote is escaped by 2 double quotes (\"\"). New lines are escaped by a backslash followed with an \"n\" character, that is \"\\n\".\n",
        "\n",
        "\n"
      ],
      "metadata": {
        "id": "7UhSd4XpaKWG"
      }
    },
    {
      "cell_type": "code",
      "execution_count": null,
      "metadata": {
        "id": "lbNPf0Vt5jQ0"
      },
      "outputs": [],
      "source": [
        "#importing necessary modules\n",
        "import pandas as pd\n",
        "import numpy as np\n",
        "import re\n",
        "import string as s\n",
        "\n",
        "from termcolor import colored\n",
        "\n",
        "#Train Test Split\n",
        "from sklearn.model_selection import train_test_split\n",
        "\n",
        "#Model Evaluation\n",
        "from sklearn.metrics import confusion_matrix, precision_score, recall_score, accuracy_score\n",
        "from mlxtend.plotting import plot_confusion_matrix\n",
        "\n",
        "#Deep Learning\n",
        "import tensorflow as tf\n",
        "from tensorflow.keras.models import Model, Sequential\n",
        "from tensorflow.keras.layers import Embedding, LSTM, Dense, Dropout, GlobalMaxPooling1D, Bidirectional\n",
        "from tensorflow.keras.preprocessing.text import Tokenizer\n",
        "from tensorflow.keras.optimizers import Adam\n",
        "from tensorflow.keras.preprocessing.sequence import pad_sequences\n",
        "from tensorflow.keras.callbacks import ModelCheckpoint, EarlyStopping\n",
        "from tensorflow.keras.utils import plot_model\n",
        "\n",
        "from sklearn.feature_extraction.text import CountVectorizer\n",
        "from keras.preprocessing.text import Tokenizer\n",
        "from keras.preprocessing.sequence import pad_sequences\n",
        "from keras.models import Sequential\n",
        "from keras.layers import Dense, Embedding, LSTM, SpatialDropout1D\n",
        "from sklearn.model_selection import train_test_split\n",
        "from keras.utils.np_utils import to_categorical\n",
        "\n",
        "#Machine Learning\n",
        "from sklearn.pipeline import Pipeline\n",
        "from sklearn.feature_extraction.text import TfidfVectorizer\n",
        "from sklearn.naive_bayes import MultinomialNB\n",
        "from sklearn.svm import LinearSVC\n",
        "from sklearn import metrics\n",
        "from sklearn.linear_model import SGDClassifier"
      ]
    },
    {
      "cell_type": "markdown",
      "source": [
        "Within this notebook our group will demonstrate how we have analysed the data, prepared it for processing, visualise the data, and apply / fit both machine learning and neural network model to compare the accuracy with regards to text classification. Our aim was to train and test the 127600 news articles total, and with the use of NLP tools, assign each article to a specific label based on its content. "
      ],
      "metadata": {
        "id": "wrxRBFKHh75O"
      }
    },
    {
      "cell_type": "markdown",
      "source": [
        "The AG's news topic classification dataset is constructed by choosing 4 largest classes from the original corpus (World News, Sports News, Business News and Sci/Tech News). Each class contains exactly  30,000 training samples and 1,900 testing samples. The total number of training samples is 120,000 and testing 7,600."
      ],
      "metadata": {
        "id": "XLZJ3jaybe3M"
      }
    },
    {
      "cell_type": "markdown",
      "source": [
        "# Part 1. Machine Learning with Naïve Bayes and Linear SVC"
      ],
      "metadata": {
        "id": "96JHNrkR29zO"
      }
    },
    {
      "cell_type": "markdown",
      "source": [
        "\n",
        "* Transform text into numerical vector data using a pipeline\n",
        "* Create a classifier\n",
        "* Fit/train the classifier\n",
        "* Test the classifier on new data\n",
        "* Evaluate performance"
      ],
      "metadata": {
        "id": "twZXYlpbjR6R"
      }
    },
    {
      "cell_type": "markdown",
      "source": [
        "Importing the training data in Pandas format for easier visualization, checking for nulls and whitespaces\n",
        "\n",
        "Class column value:\n",
        "1 = World News\n",
        "2 = Sports News\n",
        "3 = Business News\n",
        "4 = Science/Technology News"
      ],
      "metadata": {
        "id": "X1dYUEBojz5l"
      }
    },
    {
      "cell_type": "code",
      "source": [
        "#import train data as pandas, assigning column names, trimming whitespace from ends of each value across all series in dataframe\n",
        "def trim(dftrain):\n",
        "    trim = lambda x: x.strip() if type(x) is str else x\n",
        "    return dftrain.applymap(trim)\n",
        "dftrain = trim(pd.read_csv('train.csv',header=None, names=['class','title','desc']))"
      ],
      "metadata": {
        "id": "gqSP99Uz5l1r"
      },
      "execution_count": null,
      "outputs": []
    },
    {
      "cell_type": "code",
      "source": [
        "dftrain"
      ],
      "metadata": {
        "colab": {
          "base_uri": "https://localhost:8080/",
          "height": 424
        },
        "id": "8aKe484b5xFv",
        "outputId": "65545c97-e075-41ac-a114-bff319aaf5b2"
      },
      "execution_count": null,
      "outputs": [
        {
          "output_type": "execute_result",
          "data": {
            "text/plain": [
              "        class                                              title  \\\n",
              "0           3  Wall St. Bears Claw Back Into the Black (Reuters)   \n",
              "1           3  Carlyle Looks Toward Commercial Aerospace (Reu...   \n",
              "2           3    Oil and Economy Cloud Stocks' Outlook (Reuters)   \n",
              "3           3  Iraq Halts Oil Exports from Main Southern Pipe...   \n",
              "4           3  Oil prices soar to all-time record, posing new...   \n",
              "...       ...                                                ...   \n",
              "119995      1  Pakistan's Musharraf Says Won't Quit as Army C...   \n",
              "119996      2                  Renteria signing a top-shelf deal   \n",
              "119997      2                    Saban not going to Dolphins yet   \n",
              "119998      2                                  Today's NFL games   \n",
              "119999      2                       Nets get Carter from Raptors   \n",
              "\n",
              "                                                     desc  \n",
              "0       Reuters - Short-sellers, Wall Street's dwindli...  \n",
              "1       Reuters - Private investment firm Carlyle Grou...  \n",
              "2       Reuters - Soaring crude prices plus worries\\ab...  \n",
              "3       Reuters - Authorities have halted oil export\\f...  \n",
              "4       AFP - Tearaway world oil prices, toppling reco...  \n",
              "...                                                   ...  \n",
              "119995  KARACHI (Reuters) - Pakistani President Pervez...  \n",
              "119996  Red Sox general manager Theo Epstein acknowled...  \n",
              "119997  The Miami Dolphins will put their courtship of...  \n",
              "119998  PITTSBURGH at NY GIANTS Time: 1:30 p.m. Line: ...  \n",
              "119999  INDIANAPOLIS -- All-Star Vince Carter was trad...  \n",
              "\n",
              "[120000 rows x 3 columns]"
            ],
            "text/html": [
              "\n",
              "  <div id=\"df-16c63e1b-cb90-41fe-9069-a82438bcee62\">\n",
              "    <div class=\"colab-df-container\">\n",
              "      <div>\n",
              "<style scoped>\n",
              "    .dataframe tbody tr th:only-of-type {\n",
              "        vertical-align: middle;\n",
              "    }\n",
              "\n",
              "    .dataframe tbody tr th {\n",
              "        vertical-align: top;\n",
              "    }\n",
              "\n",
              "    .dataframe thead th {\n",
              "        text-align: right;\n",
              "    }\n",
              "</style>\n",
              "<table border=\"1\" class=\"dataframe\">\n",
              "  <thead>\n",
              "    <tr style=\"text-align: right;\">\n",
              "      <th></th>\n",
              "      <th>class</th>\n",
              "      <th>title</th>\n",
              "      <th>desc</th>\n",
              "    </tr>\n",
              "  </thead>\n",
              "  <tbody>\n",
              "    <tr>\n",
              "      <th>0</th>\n",
              "      <td>3</td>\n",
              "      <td>Wall St. Bears Claw Back Into the Black (Reuters)</td>\n",
              "      <td>Reuters - Short-sellers, Wall Street's dwindli...</td>\n",
              "    </tr>\n",
              "    <tr>\n",
              "      <th>1</th>\n",
              "      <td>3</td>\n",
              "      <td>Carlyle Looks Toward Commercial Aerospace (Reu...</td>\n",
              "      <td>Reuters - Private investment firm Carlyle Grou...</td>\n",
              "    </tr>\n",
              "    <tr>\n",
              "      <th>2</th>\n",
              "      <td>3</td>\n",
              "      <td>Oil and Economy Cloud Stocks' Outlook (Reuters)</td>\n",
              "      <td>Reuters - Soaring crude prices plus worries\\ab...</td>\n",
              "    </tr>\n",
              "    <tr>\n",
              "      <th>3</th>\n",
              "      <td>3</td>\n",
              "      <td>Iraq Halts Oil Exports from Main Southern Pipe...</td>\n",
              "      <td>Reuters - Authorities have halted oil export\\f...</td>\n",
              "    </tr>\n",
              "    <tr>\n",
              "      <th>4</th>\n",
              "      <td>3</td>\n",
              "      <td>Oil prices soar to all-time record, posing new...</td>\n",
              "      <td>AFP - Tearaway world oil prices, toppling reco...</td>\n",
              "    </tr>\n",
              "    <tr>\n",
              "      <th>...</th>\n",
              "      <td>...</td>\n",
              "      <td>...</td>\n",
              "      <td>...</td>\n",
              "    </tr>\n",
              "    <tr>\n",
              "      <th>119995</th>\n",
              "      <td>1</td>\n",
              "      <td>Pakistan's Musharraf Says Won't Quit as Army C...</td>\n",
              "      <td>KARACHI (Reuters) - Pakistani President Pervez...</td>\n",
              "    </tr>\n",
              "    <tr>\n",
              "      <th>119996</th>\n",
              "      <td>2</td>\n",
              "      <td>Renteria signing a top-shelf deal</td>\n",
              "      <td>Red Sox general manager Theo Epstein acknowled...</td>\n",
              "    </tr>\n",
              "    <tr>\n",
              "      <th>119997</th>\n",
              "      <td>2</td>\n",
              "      <td>Saban not going to Dolphins yet</td>\n",
              "      <td>The Miami Dolphins will put their courtship of...</td>\n",
              "    </tr>\n",
              "    <tr>\n",
              "      <th>119998</th>\n",
              "      <td>2</td>\n",
              "      <td>Today's NFL games</td>\n",
              "      <td>PITTSBURGH at NY GIANTS Time: 1:30 p.m. Line: ...</td>\n",
              "    </tr>\n",
              "    <tr>\n",
              "      <th>119999</th>\n",
              "      <td>2</td>\n",
              "      <td>Nets get Carter from Raptors</td>\n",
              "      <td>INDIANAPOLIS -- All-Star Vince Carter was trad...</td>\n",
              "    </tr>\n",
              "  </tbody>\n",
              "</table>\n",
              "<p>120000 rows × 3 columns</p>\n",
              "</div>\n",
              "      <button class=\"colab-df-convert\" onclick=\"convertToInteractive('df-16c63e1b-cb90-41fe-9069-a82438bcee62')\"\n",
              "              title=\"Convert this dataframe to an interactive table.\"\n",
              "              style=\"display:none;\">\n",
              "        \n",
              "  <svg xmlns=\"http://www.w3.org/2000/svg\" height=\"24px\"viewBox=\"0 0 24 24\"\n",
              "       width=\"24px\">\n",
              "    <path d=\"M0 0h24v24H0V0z\" fill=\"none\"/>\n",
              "    <path d=\"M18.56 5.44l.94 2.06.94-2.06 2.06-.94-2.06-.94-.94-2.06-.94 2.06-2.06.94zm-11 1L8.5 8.5l.94-2.06 2.06-.94-2.06-.94L8.5 2.5l-.94 2.06-2.06.94zm10 10l.94 2.06.94-2.06 2.06-.94-2.06-.94-.94-2.06-.94 2.06-2.06.94z\"/><path d=\"M17.41 7.96l-1.37-1.37c-.4-.4-.92-.59-1.43-.59-.52 0-1.04.2-1.43.59L10.3 9.45l-7.72 7.72c-.78.78-.78 2.05 0 2.83L4 21.41c.39.39.9.59 1.41.59.51 0 1.02-.2 1.41-.59l7.78-7.78 2.81-2.81c.8-.78.8-2.07 0-2.86zM5.41 20L4 18.59l7.72-7.72 1.47 1.35L5.41 20z\"/>\n",
              "  </svg>\n",
              "      </button>\n",
              "      \n",
              "  <style>\n",
              "    .colab-df-container {\n",
              "      display:flex;\n",
              "      flex-wrap:wrap;\n",
              "      gap: 12px;\n",
              "    }\n",
              "\n",
              "    .colab-df-convert {\n",
              "      background-color: #E8F0FE;\n",
              "      border: none;\n",
              "      border-radius: 50%;\n",
              "      cursor: pointer;\n",
              "      display: none;\n",
              "      fill: #1967D2;\n",
              "      height: 32px;\n",
              "      padding: 0 0 0 0;\n",
              "      width: 32px;\n",
              "    }\n",
              "\n",
              "    .colab-df-convert:hover {\n",
              "      background-color: #E2EBFA;\n",
              "      box-shadow: 0px 1px 2px rgba(60, 64, 67, 0.3), 0px 1px 3px 1px rgba(60, 64, 67, 0.15);\n",
              "      fill: #174EA6;\n",
              "    }\n",
              "\n",
              "    [theme=dark] .colab-df-convert {\n",
              "      background-color: #3B4455;\n",
              "      fill: #D2E3FC;\n",
              "    }\n",
              "\n",
              "    [theme=dark] .colab-df-convert:hover {\n",
              "      background-color: #434B5C;\n",
              "      box-shadow: 0px 1px 3px 1px rgba(0, 0, 0, 0.15);\n",
              "      filter: drop-shadow(0px 1px 2px rgba(0, 0, 0, 0.3));\n",
              "      fill: #FFFFFF;\n",
              "    }\n",
              "  </style>\n",
              "\n",
              "      <script>\n",
              "        const buttonEl =\n",
              "          document.querySelector('#df-16c63e1b-cb90-41fe-9069-a82438bcee62 button.colab-df-convert');\n",
              "        buttonEl.style.display =\n",
              "          google.colab.kernel.accessAllowed ? 'block' : 'none';\n",
              "\n",
              "        async function convertToInteractive(key) {\n",
              "          const element = document.querySelector('#df-16c63e1b-cb90-41fe-9069-a82438bcee62');\n",
              "          const dataTable =\n",
              "            await google.colab.kernel.invokeFunction('convertToInteractive',\n",
              "                                                     [key], {});\n",
              "          if (!dataTable) return;\n",
              "\n",
              "          const docLinkHtml = 'Like what you see? Visit the ' +\n",
              "            '<a target=\"_blank\" href=https://colab.research.google.com/notebooks/data_table.ipynb>data table notebook</a>'\n",
              "            + ' to learn more about interactive tables.';\n",
              "          element.innerHTML = '';\n",
              "          dataTable['output_type'] = 'display_data';\n",
              "          await google.colab.output.renderOutput(dataTable, element);\n",
              "          const docLink = document.createElement('div');\n",
              "          docLink.innerHTML = docLinkHtml;\n",
              "          element.appendChild(docLink);\n",
              "        }\n",
              "      </script>\n",
              "    </div>\n",
              "  </div>\n",
              "  "
            ]
          },
          "metadata": {},
          "execution_count": 136
        }
      ]
    },
    {
      "cell_type": "code",
      "source": [
        "#quick check of sample news line\n",
        "print(dftrain.desc[21000])"
      ],
      "metadata": {
        "colab": {
          "base_uri": "https://localhost:8080/"
        },
        "id": "KKFCSzOioDvy",
        "outputId": "90d2a613-74eb-4307-a935-5cd5506bedcb"
      },
      "execution_count": null,
      "outputs": [
        {
          "output_type": "stream",
          "name": "stdout",
          "text": [
            "Made nervous by the announcement that McAfee #39;s (MFE:NYSE - news - research) CFO plans to resign, investors on Tuesday sold off shares of the antivirus maker.\n"
          ]
        }
      ]
    },
    {
      "cell_type": "markdown",
      "source": [
        "Checking for whitespace"
      ],
      "metadata": {
        "id": "jA85ljOOk4JE"
      }
    },
    {
      "cell_type": "code",
      "source": [
        "blanks = []  # start with an empty list\n",
        "\n",
        "# (index,label,review text)\n",
        "for index,klas,title,desc in dftrain.itertuples():  # iterate over the DataFrame\n",
        "    if type(desc)==str:            # avoid NaN values\n",
        "        if desc.isspace():         # test 'review' for whitespace\n",
        "            blanks.append(klas)     # add matching index numbers to the list\n",
        "        \n",
        "blanks"
      ],
      "metadata": {
        "colab": {
          "base_uri": "https://localhost:8080/"
        },
        "id": "gZzPSoJDtn0C",
        "outputId": "54450d98-fb84-4630-e962-a72d83150091"
      },
      "execution_count": null,
      "outputs": [
        {
          "output_type": "execute_result",
          "data": {
            "text/plain": [
              "[]"
            ]
          },
          "metadata": {},
          "execution_count": 138
        }
      ]
    },
    {
      "cell_type": "markdown",
      "source": [
        "Importing the testing data with the same procedure"
      ],
      "metadata": {
        "id": "EUV6qKtbkQPp"
      }
    },
    {
      "cell_type": "code",
      "source": [
        "def trim(dftest):\n",
        "    trim = lambda x: x.strip() if type(x) is str else x\n",
        "    return dftest.applymap(trim)\n",
        "dftest = trim(pd.read_csv('test.csv',header=None, names=['class','title','desc']))"
      ],
      "metadata": {
        "id": "yXFVCDuH53Iw"
      },
      "execution_count": null,
      "outputs": []
    },
    {
      "cell_type": "code",
      "source": [
        "dftest"
      ],
      "metadata": {
        "colab": {
          "base_uri": "https://localhost:8080/",
          "height": 424
        },
        "id": "d9eIgLxb6zbj",
        "outputId": "7110a84e-9db4-4cc4-b69b-3d8753784053"
      },
      "execution_count": null,
      "outputs": [
        {
          "output_type": "execute_result",
          "data": {
            "text/plain": [
              "      class                                              title  \\\n",
              "0         3                  Fears for T N pension after talks   \n",
              "1         4  The Race is On: Second Private Team Sets Launc...   \n",
              "2         4      Ky. Company Wins Grant to Study Peptides (AP)   \n",
              "3         4      Prediction Unit Helps Forecast Wildfires (AP)   \n",
              "4         4        Calif. Aims to Limit Farm-Related Smog (AP)   \n",
              "...     ...                                                ...   \n",
              "7595      1                                   Around the world   \n",
              "7596      2                        Void is filled with Clement   \n",
              "7597      2                             Martinez leaves bitter   \n",
              "7598      3  5 of arthritis patients in Singapore take Bext...   \n",
              "7599      3                             EBay gets into rentals   \n",
              "\n",
              "                                                   desc  \n",
              "0     Unions representing workers at Turner   Newall...  \n",
              "1     SPACE.com - TORONTO, Canada -- A second\\team o...  \n",
              "2     AP - A company founded by a chemistry research...  \n",
              "3     AP - It's barely dawn when Mike Fitzpatrick st...  \n",
              "4     AP - Southern California's smog-fighting agenc...  \n",
              "...                                                 ...  \n",
              "7595  Ukrainian presidential candidate Viktor Yushch...  \n",
              "7596  With the supply of attractive pitching options...  \n",
              "7597  Like Roger Clemens did almost exactly eight ye...  \n",
              "7598  SINGAPORE : Doctors in the United States have ...  \n",
              "7599  EBay plans to buy the apartment and home renta...  \n",
              "\n",
              "[7600 rows x 3 columns]"
            ],
            "text/html": [
              "\n",
              "  <div id=\"df-1e768ed1-bc5f-4102-821e-4059f7836260\">\n",
              "    <div class=\"colab-df-container\">\n",
              "      <div>\n",
              "<style scoped>\n",
              "    .dataframe tbody tr th:only-of-type {\n",
              "        vertical-align: middle;\n",
              "    }\n",
              "\n",
              "    .dataframe tbody tr th {\n",
              "        vertical-align: top;\n",
              "    }\n",
              "\n",
              "    .dataframe thead th {\n",
              "        text-align: right;\n",
              "    }\n",
              "</style>\n",
              "<table border=\"1\" class=\"dataframe\">\n",
              "  <thead>\n",
              "    <tr style=\"text-align: right;\">\n",
              "      <th></th>\n",
              "      <th>class</th>\n",
              "      <th>title</th>\n",
              "      <th>desc</th>\n",
              "    </tr>\n",
              "  </thead>\n",
              "  <tbody>\n",
              "    <tr>\n",
              "      <th>0</th>\n",
              "      <td>3</td>\n",
              "      <td>Fears for T N pension after talks</td>\n",
              "      <td>Unions representing workers at Turner   Newall...</td>\n",
              "    </tr>\n",
              "    <tr>\n",
              "      <th>1</th>\n",
              "      <td>4</td>\n",
              "      <td>The Race is On: Second Private Team Sets Launc...</td>\n",
              "      <td>SPACE.com - TORONTO, Canada -- A second\\team o...</td>\n",
              "    </tr>\n",
              "    <tr>\n",
              "      <th>2</th>\n",
              "      <td>4</td>\n",
              "      <td>Ky. Company Wins Grant to Study Peptides (AP)</td>\n",
              "      <td>AP - A company founded by a chemistry research...</td>\n",
              "    </tr>\n",
              "    <tr>\n",
              "      <th>3</th>\n",
              "      <td>4</td>\n",
              "      <td>Prediction Unit Helps Forecast Wildfires (AP)</td>\n",
              "      <td>AP - It's barely dawn when Mike Fitzpatrick st...</td>\n",
              "    </tr>\n",
              "    <tr>\n",
              "      <th>4</th>\n",
              "      <td>4</td>\n",
              "      <td>Calif. Aims to Limit Farm-Related Smog (AP)</td>\n",
              "      <td>AP - Southern California's smog-fighting agenc...</td>\n",
              "    </tr>\n",
              "    <tr>\n",
              "      <th>...</th>\n",
              "      <td>...</td>\n",
              "      <td>...</td>\n",
              "      <td>...</td>\n",
              "    </tr>\n",
              "    <tr>\n",
              "      <th>7595</th>\n",
              "      <td>1</td>\n",
              "      <td>Around the world</td>\n",
              "      <td>Ukrainian presidential candidate Viktor Yushch...</td>\n",
              "    </tr>\n",
              "    <tr>\n",
              "      <th>7596</th>\n",
              "      <td>2</td>\n",
              "      <td>Void is filled with Clement</td>\n",
              "      <td>With the supply of attractive pitching options...</td>\n",
              "    </tr>\n",
              "    <tr>\n",
              "      <th>7597</th>\n",
              "      <td>2</td>\n",
              "      <td>Martinez leaves bitter</td>\n",
              "      <td>Like Roger Clemens did almost exactly eight ye...</td>\n",
              "    </tr>\n",
              "    <tr>\n",
              "      <th>7598</th>\n",
              "      <td>3</td>\n",
              "      <td>5 of arthritis patients in Singapore take Bext...</td>\n",
              "      <td>SINGAPORE : Doctors in the United States have ...</td>\n",
              "    </tr>\n",
              "    <tr>\n",
              "      <th>7599</th>\n",
              "      <td>3</td>\n",
              "      <td>EBay gets into rentals</td>\n",
              "      <td>EBay plans to buy the apartment and home renta...</td>\n",
              "    </tr>\n",
              "  </tbody>\n",
              "</table>\n",
              "<p>7600 rows × 3 columns</p>\n",
              "</div>\n",
              "      <button class=\"colab-df-convert\" onclick=\"convertToInteractive('df-1e768ed1-bc5f-4102-821e-4059f7836260')\"\n",
              "              title=\"Convert this dataframe to an interactive table.\"\n",
              "              style=\"display:none;\">\n",
              "        \n",
              "  <svg xmlns=\"http://www.w3.org/2000/svg\" height=\"24px\"viewBox=\"0 0 24 24\"\n",
              "       width=\"24px\">\n",
              "    <path d=\"M0 0h24v24H0V0z\" fill=\"none\"/>\n",
              "    <path d=\"M18.56 5.44l.94 2.06.94-2.06 2.06-.94-2.06-.94-.94-2.06-.94 2.06-2.06.94zm-11 1L8.5 8.5l.94-2.06 2.06-.94-2.06-.94L8.5 2.5l-.94 2.06-2.06.94zm10 10l.94 2.06.94-2.06 2.06-.94-2.06-.94-.94-2.06-.94 2.06-2.06.94z\"/><path d=\"M17.41 7.96l-1.37-1.37c-.4-.4-.92-.59-1.43-.59-.52 0-1.04.2-1.43.59L10.3 9.45l-7.72 7.72c-.78.78-.78 2.05 0 2.83L4 21.41c.39.39.9.59 1.41.59.51 0 1.02-.2 1.41-.59l7.78-7.78 2.81-2.81c.8-.78.8-2.07 0-2.86zM5.41 20L4 18.59l7.72-7.72 1.47 1.35L5.41 20z\"/>\n",
              "  </svg>\n",
              "      </button>\n",
              "      \n",
              "  <style>\n",
              "    .colab-df-container {\n",
              "      display:flex;\n",
              "      flex-wrap:wrap;\n",
              "      gap: 12px;\n",
              "    }\n",
              "\n",
              "    .colab-df-convert {\n",
              "      background-color: #E8F0FE;\n",
              "      border: none;\n",
              "      border-radius: 50%;\n",
              "      cursor: pointer;\n",
              "      display: none;\n",
              "      fill: #1967D2;\n",
              "      height: 32px;\n",
              "      padding: 0 0 0 0;\n",
              "      width: 32px;\n",
              "    }\n",
              "\n",
              "    .colab-df-convert:hover {\n",
              "      background-color: #E2EBFA;\n",
              "      box-shadow: 0px 1px 2px rgba(60, 64, 67, 0.3), 0px 1px 3px 1px rgba(60, 64, 67, 0.15);\n",
              "      fill: #174EA6;\n",
              "    }\n",
              "\n",
              "    [theme=dark] .colab-df-convert {\n",
              "      background-color: #3B4455;\n",
              "      fill: #D2E3FC;\n",
              "    }\n",
              "\n",
              "    [theme=dark] .colab-df-convert:hover {\n",
              "      background-color: #434B5C;\n",
              "      box-shadow: 0px 1px 3px 1px rgba(0, 0, 0, 0.15);\n",
              "      filter: drop-shadow(0px 1px 2px rgba(0, 0, 0, 0.3));\n",
              "      fill: #FFFFFF;\n",
              "    }\n",
              "  </style>\n",
              "\n",
              "      <script>\n",
              "        const buttonEl =\n",
              "          document.querySelector('#df-1e768ed1-bc5f-4102-821e-4059f7836260 button.colab-df-convert');\n",
              "        buttonEl.style.display =\n",
              "          google.colab.kernel.accessAllowed ? 'block' : 'none';\n",
              "\n",
              "        async function convertToInteractive(key) {\n",
              "          const element = document.querySelector('#df-1e768ed1-bc5f-4102-821e-4059f7836260');\n",
              "          const dataTable =\n",
              "            await google.colab.kernel.invokeFunction('convertToInteractive',\n",
              "                                                     [key], {});\n",
              "          if (!dataTable) return;\n",
              "\n",
              "          const docLinkHtml = 'Like what you see? Visit the ' +\n",
              "            '<a target=\"_blank\" href=https://colab.research.google.com/notebooks/data_table.ipynb>data table notebook</a>'\n",
              "            + ' to learn more about interactive tables.';\n",
              "          element.innerHTML = '';\n",
              "          dataTable['output_type'] = 'display_data';\n",
              "          await google.colab.output.renderOutput(dataTable, element);\n",
              "          const docLink = document.createElement('div');\n",
              "          docLink.innerHTML = docLinkHtml;\n",
              "          element.appendChild(docLink);\n",
              "        }\n",
              "      </script>\n",
              "    </div>\n",
              "  </div>\n",
              "  "
            ]
          },
          "metadata": {},
          "execution_count": 140
        }
      ]
    },
    {
      "cell_type": "code",
      "source": [
        "blanks = []  # start with an empty list\n",
        "\n",
        "# (index,label,review text)\n",
        "for index,klas,title,desc in dftest.itertuples():  # iterate over the DataFrame\n",
        "    if type(desc)==str:            # avoid NaN values\n",
        "        if desc.isspace():         # test 'review' for whitespace\n",
        "            blanks.append(klas)     # add matching index numbers to the list\n",
        "        \n",
        "blanks"
      ],
      "metadata": {
        "colab": {
          "base_uri": "https://localhost:8080/"
        },
        "id": "_3jmuzIVuv6s",
        "outputId": "8d0c74ea-6103-492e-c4eb-01ff1b6570d3"
      },
      "execution_count": null,
      "outputs": [
        {
          "output_type": "execute_result",
          "data": {
            "text/plain": [
              "[]"
            ]
          },
          "metadata": {},
          "execution_count": 141
        }
      ]
    },
    {
      "cell_type": "code",
      "source": [
        "#Final check for null values\n",
        "dftrain.isnull().sum()"
      ],
      "metadata": {
        "colab": {
          "base_uri": "https://localhost:8080/"
        },
        "id": "TUORltvE69BP",
        "outputId": "09025c21-a988-4c5e-f51e-e3fe064b30c2"
      },
      "execution_count": null,
      "outputs": [
        {
          "output_type": "execute_result",
          "data": {
            "text/plain": [
              "class    0\n",
              "title    0\n",
              "desc     0\n",
              "dtype: int64"
            ]
          },
          "metadata": {},
          "execution_count": 142
        }
      ]
    },
    {
      "cell_type": "code",
      "source": [
        "dftest.isnull().sum()"
      ],
      "metadata": {
        "colab": {
          "base_uri": "https://localhost:8080/"
        },
        "id": "bEfUlhjP7E21",
        "outputId": "22fe6c49-cb03-4af7-9487-4a9d9b517bc0"
      },
      "execution_count": null,
      "outputs": [
        {
          "output_type": "execute_result",
          "data": {
            "text/plain": [
              "class    0\n",
              "title    0\n",
              "desc     0\n",
              "dtype: int64"
            ]
          },
          "metadata": {},
          "execution_count": 143
        }
      ]
    },
    {
      "cell_type": "markdown",
      "source": [
        "Both the training and testing data have no null values or whitespaces. Quick check of data with .info() and labels with value_counts()"
      ],
      "metadata": {
        "id": "0Gs2aYaomA2c"
      }
    },
    {
      "cell_type": "code",
      "source": [
        "dftrain.info()"
      ],
      "metadata": {
        "colab": {
          "base_uri": "https://localhost:8080/"
        },
        "id": "3WV1_jk8lYkF",
        "outputId": "f91d85d4-1d77-487a-a874-b4dd2c1dd34c"
      },
      "execution_count": null,
      "outputs": [
        {
          "output_type": "stream",
          "name": "stdout",
          "text": [
            "<class 'pandas.core.frame.DataFrame'>\n",
            "RangeIndex: 120000 entries, 0 to 119999\n",
            "Data columns (total 3 columns):\n",
            " #   Column  Non-Null Count   Dtype \n",
            "---  ------  --------------   ----- \n",
            " 0   class   120000 non-null  int64 \n",
            " 1   title   120000 non-null  object\n",
            " 2   desc    120000 non-null  object\n",
            "dtypes: int64(1), object(2)\n",
            "memory usage: 2.7+ MB\n"
          ]
        }
      ]
    },
    {
      "cell_type": "code",
      "source": [
        "dftest.info()"
      ],
      "metadata": {
        "colab": {
          "base_uri": "https://localhost:8080/"
        },
        "id": "hy9f0UNP7HZq",
        "outputId": "9ac5353c-6f0b-442a-d837-0953e6ea78c0"
      },
      "execution_count": null,
      "outputs": [
        {
          "output_type": "stream",
          "name": "stdout",
          "text": [
            "<class 'pandas.core.frame.DataFrame'>\n",
            "RangeIndex: 7600 entries, 0 to 7599\n",
            "Data columns (total 3 columns):\n",
            " #   Column  Non-Null Count  Dtype \n",
            "---  ------  --------------  ----- \n",
            " 0   class   7600 non-null   int64 \n",
            " 1   title   7600 non-null   object\n",
            " 2   desc    7600 non-null   object\n",
            "dtypes: int64(1), object(2)\n",
            "memory usage: 178.2+ KB\n"
          ]
        }
      ]
    },
    {
      "cell_type": "code",
      "source": [
        "dftrain['class'].value_counts()"
      ],
      "metadata": {
        "colab": {
          "base_uri": "https://localhost:8080/"
        },
        "id": "ukPHwbhSpaZG",
        "outputId": "d79c53c7-6a9b-4069-ebdb-5c855a58b8d2"
      },
      "execution_count": null,
      "outputs": [
        {
          "output_type": "execute_result",
          "data": {
            "text/plain": [
              "3    30000\n",
              "4    30000\n",
              "2    30000\n",
              "1    30000\n",
              "Name: class, dtype: int64"
            ]
          },
          "metadata": {},
          "execution_count": 146
        }
      ]
    },
    {
      "cell_type": "code",
      "source": [
        "dftest['class'].value_counts()"
      ],
      "metadata": {
        "colab": {
          "base_uri": "https://localhost:8080/"
        },
        "id": "5Oc0t14qptk8",
        "outputId": "ba632858-f9f3-4dc9-c830-7f450cfc97f3"
      },
      "execution_count": null,
      "outputs": [
        {
          "output_type": "execute_result",
          "data": {
            "text/plain": [
              "3    1900\n",
              "4    1900\n",
              "2    1900\n",
              "1    1900\n",
              "Name: class, dtype: int64"
            ]
          },
          "metadata": {},
          "execution_count": 147
        }
      ]
    },
    {
      "cell_type": "markdown",
      "source": [
        "Data visualization to see most frequent words appearing in 'Description' column of train set. We've noticed that words with capitalized letters are counted separately. There are also some presence of special characters"
      ],
      "metadata": {
        "id": "hMnZJR0nnFC8"
      }
    },
    {
      "cell_type": "code",
      "source": [
        "from collections import Counter\n",
        "import matplotlib.pyplot as plt\n",
        "from matplotlib.pyplot import figure\n",
        "\n",
        "def addlabels(words,counts):\n",
        "    for i in range(len(words)):\n",
        "        plt.text(i,counts[i],counts[i])\n",
        "\n",
        "description_list = dftrain['desc'].values.tolist()\n",
        "\n",
        "# Assign the Counter instance `most_common` call to a variable:\n",
        "word_frequency = Counter(\" \".join(description_list).split()).most_common(20)\n",
        "\n",
        "# `most_common` returns a list of (word, count) tuples\n",
        "words = [word for word, _ in word_frequency]\n",
        "counts = [counts for _, counts in word_frequency]\n",
        "\n",
        "figure(figsize = (10,8))\n",
        "plt.bar(words, counts)\n",
        "addlabels(words, counts)\n",
        "plt.title(\"10 most frequent tokens in description\")\n",
        "plt.ylabel(\"Frequency\")\n",
        "plt.xlabel(\"Words\")\n",
        "\n",
        "\n",
        "plt.show()"
      ],
      "metadata": {
        "colab": {
          "base_uri": "https://localhost:8080/",
          "height": 535
        },
        "id": "MzSJ1lEz7kfH",
        "outputId": "29c239e2-3af9-4b45-adb4-1206381c8553"
      },
      "execution_count": null,
      "outputs": [
        {
          "output_type": "display_data",
          "data": {
            "text/plain": [
              "<Figure size 720x576 with 1 Axes>"
            ],
            "image/png": "[encoded data removed]"
          },
          "metadata": {}
        }
      ]
    },
    {
      "cell_type": "markdown",
      "source": [
        "Applying lower case characters for the Title and Description "
      ],
      "metadata": {
        "id": "F2yVQMCPmdTp"
      }
    },
    {
      "cell_type": "code",
      "source": [
        "dftest = dftest.applymap(lambda s:s.lower() if type(s) == str else s)\n",
        "dftrain = dftrain.applymap(lambda s:s.lower() if type(s) == str else s)"
      ],
      "metadata": {
        "id": "En7HzcQc5b-K"
      },
      "execution_count": null,
      "outputs": []
    },
    {
      "cell_type": "markdown",
      "source": [
        "## Build pipelines to vectorize the data, then train and fit a model\n",
        "\n",
        "Next, data are already nicely split into training and testing. For efficiency purpose we are just going to use the 'Description' column as features for the machine learning part, and the news class column as target.\n",
        "\n",
        "We develop a set of pipelines, running TfidfVectorizer with 1. Naïve Bayes 2. Linear SVC and 3. Stochastic Gradient Descent"
      ],
      "metadata": {
        "id": "zprfSEXeos5S"
      }
    },
    {
      "cell_type": "code",
      "source": [
        "train_x=dftrain.desc\n",
        "test_x=dftest.desc\n",
        "train_y=dftrain['class']\n",
        "test_y=dftest['class']"
      ],
      "metadata": {
        "id": "YVcRe5NMyObL"
      },
      "execution_count": null,
      "outputs": []
    },
    {
      "cell_type": "code",
      "source": [
        "test_x"
      ],
      "metadata": {
        "colab": {
          "base_uri": "https://localhost:8080/"
        },
        "id": "pzCNSwIBKWyQ",
        "outputId": "52a05e6f-7463-4b07-c604-1caa0cb144a8"
      },
      "execution_count": null,
      "outputs": [
        {
          "output_type": "execute_result",
          "data": {
            "text/plain": [
              "0       unions representing workers at turner   newall...\n",
              "1       space.com - toronto, canada -- a second\\team o...\n",
              "2       ap - a company founded by a chemistry research...\n",
              "3       ap - it's barely dawn when mike fitzpatrick st...\n",
              "4       ap - southern california's smog-fighting agenc...\n",
              "                              ...                        \n",
              "7595    ukrainian presidential candidate viktor yushch...\n",
              "7596    with the supply of attractive pitching options...\n",
              "7597    like roger clemens did almost exactly eight ye...\n",
              "7598    singapore : doctors in the united states have ...\n",
              "7599    ebay plans to buy the apartment and home renta...\n",
              "Name: desc, Length: 7600, dtype: object"
            ]
          },
          "metadata": {},
          "execution_count": 151
        }
      ]
    },
    {
      "cell_type": "markdown",
      "source": [
        "Model Pipeline"
      ],
      "metadata": {
        "id": "7xBNXAuDqHSk"
      }
    },
    {
      "cell_type": "code",
      "source": [
        "# Naïve Bayes:\n",
        "text_clf_nb = Pipeline([('tfidf', TfidfVectorizer()),\n",
        "                     ('clf', MultinomialNB()),\n",
        "])\n",
        "\n",
        "# Linear SVC:\n",
        "text_clf_lsvc = Pipeline([('tfidf', TfidfVectorizer()),\n",
        "                     ('clf', LinearSVC()),\n",
        "])\n",
        "\n",
        "\n",
        "#Stochastic Gradient Descent\n",
        "SGD= Pipeline([('tfidf', TfidfVectorizer()),\n",
        "                     ('sgd', SGDClassifier()),\n",
        "])\n",
        "\n",
        "text_clf_nb.fit(train_x, train_y)\n",
        "text_clf_lsvc.fit(train_x, train_y)\n",
        "SGD.fit(train_x,train_y)"
      ],
      "metadata": {
        "colab": {
          "base_uri": "https://localhost:8080/"
        },
        "id": "Y0tJnI5nFYXM",
        "outputId": "4a5665d8-ba41-482b-a848-719a3d466d65"
      },
      "execution_count": null,
      "outputs": [
        {
          "output_type": "execute_result",
          "data": {
            "text/plain": [
              "Pipeline(steps=[('tfidf', TfidfVectorizer()), ('sgd', SGDClassifier())])"
            ]
          },
          "metadata": {},
          "execution_count": 152
        }
      ]
    },
    {
      "cell_type": "code",
      "source": [
        "#running the prediction set\n",
        "predictions = text_clf_nb.predict(test_x)"
      ],
      "metadata": {
        "id": "mS3OSDQANiTY"
      },
      "execution_count": null,
      "outputs": []
    },
    {
      "cell_type": "code",
      "source": [
        "#print confusion matrix & classification report\n",
        "print(metrics.confusion_matrix(test_y,predictions))"
      ],
      "metadata": {
        "colab": {
          "base_uri": "https://localhost:8080/"
        },
        "id": "BjFE0zuENrvc",
        "outputId": "caeec020-dd26-4424-abb8-214dd0d3cac9"
      },
      "execution_count": null,
      "outputs": [
        {
          "output_type": "stream",
          "name": "stdout",
          "text": [
            "[[1687   62  101   50]\n",
            " [  29 1845   11   15]\n",
            " [  71   21 1605  203]\n",
            " [  71   23  152 1654]]\n"
          ]
        }
      ]
    },
    {
      "cell_type": "code",
      "source": [
        "print(metrics.classification_report(test_y,predictions))"
      ],
      "metadata": {
        "colab": {
          "base_uri": "https://localhost:8080/"
        },
        "id": "QpICPVrPNwTX",
        "outputId": "a56a50f5-4521-49ac-9a4f-785ff9aedf17"
      },
      "execution_count": null,
      "outputs": [
        {
          "output_type": "stream",
          "name": "stdout",
          "text": [
            "              precision    recall  f1-score   support\n",
            "\n",
            "           1       0.91      0.89      0.90      1900\n",
            "           2       0.95      0.97      0.96      1900\n",
            "           3       0.86      0.84      0.85      1900\n",
            "           4       0.86      0.87      0.87      1900\n",
            "\n",
            "    accuracy                           0.89      7600\n",
            "   macro avg       0.89      0.89      0.89      7600\n",
            "weighted avg       0.89      0.89      0.89      7600\n",
            "\n"
          ]
        }
      ]
    },
    {
      "cell_type": "code",
      "source": [
        "print(\"Accuracy score using Naive Bayes is \", metrics.accuracy_score(test_y,predictions)*100, \"%\")"
      ],
      "metadata": {
        "colab": {
          "base_uri": "https://localhost:8080/"
        },
        "id": "8tt0bcrNN3Dl",
        "outputId": "28723597-f148-490b-f858-229795721ec7"
      },
      "execution_count": null,
      "outputs": [
        {
          "output_type": "stream",
          "name": "stdout",
          "text": [
            "Accuracy score using Naive Bayes is  89.35526315789474 %\n"
          ]
        }
      ]
    },
    {
      "cell_type": "code",
      "source": [
        "svcpredictions = text_clf_lsvc.predict(test_x)\n",
        "print(\"Accuracy score using Linear SVC is \", metrics.accuracy_score(test_y,svcpredictions)*100, \"%\")"
      ],
      "metadata": {
        "colab": {
          "base_uri": "https://localhost:8080/"
        },
        "id": "LPp3bPGtOJnu",
        "outputId": "89fe2f93-808c-46ad-aad2-858f49b37bd1"
      },
      "execution_count": null,
      "outputs": [
        {
          "output_type": "stream",
          "name": "stdout",
          "text": [
            "Accuracy score using Linear SVC is  91.01315789473684 %\n"
          ]
        }
      ]
    },
    {
      "cell_type": "code",
      "source": [
        "sgdpredictions = SGD.predict(test_x)\n",
        "print(\"Accuracy score using Linear SVC is \", metrics.accuracy_score(test_y,sgdpredictions)*100, \"%\")"
      ],
      "metadata": {
        "colab": {
          "base_uri": "https://localhost:8080/"
        },
        "id": "2A5-jU6CuboW",
        "outputId": "b36231ed-eac2-48c1-fc91-4392d2f451fd"
      },
      "execution_count": null,
      "outputs": [
        {
          "output_type": "stream",
          "name": "stdout",
          "text": [
            "Accuracy score using Linear SVC is  89.85526315789474 %\n"
          ]
        }
      ]
    },
    {
      "cell_type": "markdown",
      "source": [
        "We have achieved slightly higher accuracy using Linear SVC. Let's visualize the confusion matrix of Linear SVC model"
      ],
      "metadata": {
        "id": "FZ4K_sXQrsbJ"
      }
    },
    {
      "cell_type": "code",
      "source": [
        "import seaborn as sns\n",
        "def confusion_mat(color):\n",
        "    cof=confusion_matrix(test_y, svcpredictions)\n",
        "    cof=pd.DataFrame(cof, index=[i for i in range(1,5)], columns=[i for i in range(1,5)])\n",
        "    sns.set(font_scale=1.5)\n",
        "    plt.figure(figsize=(8,8));\n",
        "\n",
        "    sns.heatmap(cof, cmap=color,linewidths=1, annot=True,square=True, fmt='d', cbar=False,xticklabels=['World','Sports','Business','Science'],yticklabels=['World','Sports','Business','Science']);\n",
        "    plt.xlabel(\"Predicted Classes\");\n",
        "    plt.ylabel(\"Actual Classes\");"
      ],
      "metadata": {
        "id": "dCDc5a0Ts1Mg"
      },
      "execution_count": null,
      "outputs": []
    },
    {
      "cell_type": "code",
      "source": [
        "confusion_mat('Pastel2_r')"
      ],
      "metadata": {
        "colab": {
          "base_uri": "https://localhost:8080/",
          "height": 515
        },
        "id": "YAki9Xm5tDJN",
        "outputId": "135d5d8a-55d2-4763-bbe7-103455ccc148"
      },
      "execution_count": null,
      "outputs": [
        {
          "output_type": "display_data",
          "data": {
            "text/plain": [
              "<Figure size 576x576 with 1 Axes>"
            ],
            "image/png": "[encoded data removed]"
          },
          "metadata": {}
        }
      ]
    },
    {
      "cell_type": "markdown",
      "source": [
        "Let's see if adding stop_words list from our previous frequent words visualization will improve the model"
      ],
      "metadata": {
        "id": "OuCdYGkivMEz"
      }
    },
    {
      "cell_type": "code",
      "source": [
        "#Instead of importing stopwords list, we create our own, using the most frequent words in training set\n",
        "stopwords=['the','a','to','of','in','and','on','for','that', '#39;s','with','as','its','at','is','by','has','it']"
      ],
      "metadata": {
        "id": "XTNm2i0UEtQ6"
      },
      "execution_count": null,
      "outputs": []
    },
    {
      "cell_type": "code",
      "source": [
        "text_clf_lsvc2 = Pipeline([('tfidf', TfidfVectorizer(stop_words=stopwords)),\n",
        "                     ('clf', LinearSVC()),\n",
        "])\n",
        "text_clf_lsvc2.fit(train_x, train_y)"
      ],
      "metadata": {
        "id": "n18XFWMKOg0v",
        "colab": {
          "base_uri": "https://localhost:8080/"
        },
        "outputId": "b8be8381-ae2e-4b82-de14-55e9e24f24f0"
      },
      "execution_count": null,
      "outputs": [
        {
          "output_type": "stream",
          "name": "stderr",
          "text": [
            "/usr/local/lib/python3.7/dist-packages/sklearn/feature_extraction/text.py:401: UserWarning: Your stop_words may be inconsistent with your preprocessing. Tokenizing the stop words generated tokens ['39'] not in stop_words.\n",
            "  % sorted(inconsistent)\n"
          ]
        },
        {
          "output_type": "execute_result",
          "data": {
            "text/plain": [
              "Pipeline(steps=[('tfidf',\n",
              "                 TfidfVectorizer(stop_words=['the', 'a', 'to', 'of', 'in',\n",
              "                                             'and', 'on', 'for', 'that',\n",
              "                                             '#39;s', 'with', 'as', 'its', 'at',\n",
              "                                             'is', 'by', 'has', 'it'])),\n",
              "                ('clf', LinearSVC())])"
            ]
          },
          "metadata": {},
          "execution_count": 162
        }
      ]
    },
    {
      "cell_type": "code",
      "source": [
        "print(metrics.classification_report(test_y,predictions_with_stopwords))"
      ],
      "metadata": {
        "colab": {
          "base_uri": "https://localhost:8080/"
        },
        "id": "j5l4RfvoYCBM",
        "outputId": "0678b464-2418-4326-8ce7-e2fa4bb45ca6"
      },
      "execution_count": null,
      "outputs": [
        {
          "output_type": "stream",
          "name": "stdout",
          "text": [
            "              precision    recall  f1-score   support\n",
            "\n",
            "           1       0.93      0.90      0.91      1900\n",
            "           2       0.95      0.98      0.96      1900\n",
            "           3       0.88      0.87      0.87      1900\n",
            "           4       0.88      0.90      0.89      1900\n",
            "\n",
            "    accuracy                           0.91      7600\n",
            "   macro avg       0.91      0.91      0.91      7600\n",
            "weighted avg       0.91      0.91      0.91      7600\n",
            "\n"
          ]
        }
      ]
    },
    {
      "cell_type": "code",
      "source": [
        "print(\"Accuracy score using Linear SVC + stopwords list is \",metrics.accuracy_score(test_y,predictions_with_stopwords)*100, \"%\")"
      ],
      "metadata": {
        "colab": {
          "base_uri": "https://localhost:8080/"
        },
        "id": "s0Z7pfbaY391",
        "outputId": "d543caf2-8551-4560-d8d6-11592afa9f01"
      },
      "execution_count": null,
      "outputs": [
        {
          "output_type": "stream",
          "name": "stdout",
          "text": [
            "Accuracy score using Linear SVC + stopwords list is  90.96052631578947 %\n"
          ]
        }
      ]
    },
    {
      "cell_type": "markdown",
      "source": [
        "The accuracy with adding stopwords actually decreased slightly. Based on our experience with TfidfVectorizer, Classification problems normally don’t need stop words because it’s possible to talk about the general idea of a text even if you remove stop words from it. ( https://medium.com/@limavallantin/why-is-removing-stop-words-not-always-a-good-idea-c8d35bd77214 )"
      ],
      "metadata": {
        "id": "jjLP9JiWwpCC"
      }
    },
    {
      "cell_type": "markdown",
      "source": [
        "Now let's feed some data to the Linear SVC + Tfidf Vectorizer prediction model"
      ],
      "metadata": {
        "id": "4BGY5AKh1ekM"
      }
    },
    {
      "cell_type": "code",
      "source": [
        "test_desc = \"Reuters - Short-sellers, Wall Street's dwindling\\band of ultra-cynics, are seeing green again.\"\n"
      ],
      "metadata": {
        "id": "-Vcg5Y5YY6Co"
      },
      "execution_count": null,
      "outputs": []
    },
    {
      "cell_type": "code",
      "source": [
        "print(text_clf_lsvc2.predict([test_desc]))\n",
        "#business - correct prediction"
      ],
      "metadata": {
        "colab": {
          "base_uri": "https://localhost:8080/"
        },
        "id": "uqkSIfQtZoai",
        "outputId": "b354b206-364c-4684-f986-4d32abc3ddc5"
      },
      "execution_count": null,
      "outputs": [
        {
          "output_type": "stream",
          "name": "stdout",
          "text": [
            "[3]\n"
          ]
        }
      ]
    },
    {
      "cell_type": "code",
      "source": [
        "dftrain.desc[20000]"
      ],
      "metadata": {
        "colab": {
          "base_uri": "https://localhost:8080/",
          "height": 71
        },
        "id": "2hbWTxzOahLg",
        "outputId": "74c3e7ee-a604-4dbc-8569-d2ac53660659"
      },
      "execution_count": null,
      "outputs": [
        {
          "output_type": "execute_result",
          "data": {
            "text/plain": [
              "'detroit (ticker) -- a rocky first inning was too much for denny bautista to overcome in his first major league start. craig monroe had an rbi single in a three-run first inning and added a solo homer off bautista'"
            ],
            "application/vnd.google.colaboratory.intrinsic+json": {
              "type": "string"
            }
          },
          "metadata": {},
          "execution_count": 167
        }
      ]
    },
    {
      "cell_type": "code",
      "source": [
        "test_2 = 'detroit (ticker) -- a rocky first inning was too much for denny bautista to overcome in his first major league start. craig monroe had an rbi single in a three-run first inning and added a solo homer off bautista'"
      ],
      "metadata": {
        "id": "m6C1j91HaxNJ"
      },
      "execution_count": null,
      "outputs": []
    },
    {
      "cell_type": "code",
      "source": [
        "print(text_clf_lsvc2.predict([test_2]))\n",
        "#sports - correct prediction"
      ],
      "metadata": {
        "colab": {
          "base_uri": "https://localhost:8080/"
        },
        "id": "5m0gq2rSa5ft",
        "outputId": "61860003-e8a2-4c7b-e2ea-e1f9850d44e7"
      },
      "execution_count": null,
      "outputs": [
        {
          "output_type": "stream",
          "name": "stdout",
          "text": [
            "[2]\n"
          ]
        }
      ]
    },
    {
      "cell_type": "markdown",
      "source": [
        "# Part 2. Long Short-Term Memory (LSTM) Modelling"
      ],
      "metadata": {
        "id": "1HSecQqK2guG"
      }
    },
    {
      "cell_type": "markdown",
      "source": [
        "**BiDirectional LSTM**\n",
        "\n",
        "We run our inputs in two ways, one from past to future and one from future to past and what differs this approach from unidirectional is that in the LSTM that runs backwards we preserve information from the future and using the two hidden states combined we are able in any point in time to preserve information from both past and future."
      ],
      "metadata": {
        "id": "DGcivBiC4ATU"
      }
    },
    {
      "cell_type": "code",
      "source": [
        "#Properly adding the right news labels\n",
        "labels = {1:'World News', 2:'Sports News', 3:'Business News', 4:'Science-Technology News'}\n",
        "\n",
        "dftrain['label'] = dftrain['class'].map(labels)\n",
        "dftest['label'] = dftest['class'].map(labels)"
      ],
      "metadata": {
        "id": "EAjwmeLZbaSW"
      },
      "execution_count": null,
      "outputs": []
    },
    {
      "cell_type": "code",
      "source": [
        "#Combine Title and Description\n",
        "X_train = dftrain['title'] + \" \" + dftrain['desc'] # Combine title and description (better accuracy than using them as separate features)\n",
        "y_train = dftrain['class'].apply(lambda x: x-1).values # Class labels need to begin from 0\n",
        "\n",
        "x_test = dftest['title'] + \" \" + dftest['desc'] # Combine title and description (better accuracy than using them as separate features)\n",
        "y_test = dftest['class'].apply(lambda x: x-1).values # Class labels need to begin from 0\n",
        "\n",
        "#Max Length of sentences in Train Dataset\n",
        "maxlen = X_train.map(lambda x: len(x.split())).max()"
      ],
      "metadata": {
        "id": "M6HL6h9jCC1j"
      },
      "execution_count": null,
      "outputs": []
    },
    {
      "cell_type": "code",
      "source": [
        "#Quick check, now the title and description column is combined\n",
        "X_train"
      ],
      "metadata": {
        "colab": {
          "base_uri": "https://localhost:8080/"
        },
        "id": "BYU65PWODkcm",
        "outputId": "b4a6d853-b718-4a7c-a1cb-161c315e0e33"
      },
      "execution_count": null,
      "outputs": [
        {
          "output_type": "execute_result",
          "data": {
            "text/plain": [
              "0         wall st. bears claw back into the black (reute...\n",
              "1         carlyle looks toward commercial aerospace (reu...\n",
              "2         oil and economy cloud stocks' outlook (reuters...\n",
              "3         iraq halts oil exports from main southern pipe...\n",
              "4         oil prices soar to all-time record, posing new...\n",
              "                                ...                        \n",
              "119995    pakistan's musharraf says won't quit as army c...\n",
              "119996    renteria signing a top-shelf deal red sox gene...\n",
              "119997    saban not going to dolphins yet the miami dolp...\n",
              "119998    today's nfl games pittsburgh at ny giants time...\n",
              "119999    nets get carter from raptors indianapolis -- a...\n",
              "Length: 120000, dtype: object"
            ]
          },
          "metadata": {},
          "execution_count": 172
        }
      ]
    },
    {
      "cell_type": "markdown",
      "source": [
        "**Tokenizing Data**\n",
        "\n",
        "According to vocabulary size\n",
        "\n",
        "**Padding Data**\n",
        "\n",
        "All the neural networks require to have inputs that have the same shape and size. However, when we pre-process and use the texts as inputs for our model e.g. LSTM, not all the sentences have the same length. In other words, naturally, some of the sentences are longer or shorter. We need to have the inputs with the same size, this is where the padding is necessary."
      ],
      "metadata": {
        "id": "WQuEDe2u3XUk"
      }
    },
    {
      "cell_type": "code",
      "source": [
        "vocab_size = 10000 # arbitrarily chosen\n",
        "embed_size = 32 # arbitrarily chosen\n",
        "\n",
        "# Create and Fit tokenizer\n",
        "tok = Tokenizer(num_words=vocab_size)\n",
        "tok.fit_on_texts(X_train.values)\n",
        "\n",
        "# Tokenize data\n",
        "X_train = tok.texts_to_sequences(X_train)\n",
        "x_test = tok.texts_to_sequences(x_test)\n",
        "\n",
        "# Pad data\n",
        "X_train = pad_sequences(X_train, maxlen=maxlen)\n",
        "x_test = pad_sequences(x_test, maxlen=maxlen)\n"
      ],
      "metadata": {
        "id": "mQIG88W5EXDj"
      },
      "execution_count": null,
      "outputs": []
    },
    {
      "cell_type": "markdown",
      "source": [
        "We ended up with almost 1,5 million trainable params"
      ],
      "metadata": {
        "id": "PBKmRdvj4WYK"
      }
    },
    {
      "cell_type": "code",
      "source": [
        "model = Sequential()\n",
        "model.add(Embedding(vocab_size, embed_size, input_length=maxlen))\n",
        "model.add(Bidirectional(LSTM(128, return_sequences=True))) \n",
        "model.add(Bidirectional(LSTM(64, return_sequences=True)))\n",
        "model.add(GlobalMaxPooling1D()) #Pooling Layer decreases sensitivity to features, thereby creating more generalised data for better test results.\n",
        "model.add(Dense(1024))\n",
        "model.add(Dropout(0.25)) #Dropout layer nullifies certain random input values to generate a more general dataset and prevent the problem of overfitting.\n",
        "model.add(Dense(512))\n",
        "model.add(Dropout(0.25))\n",
        "model.add(Dense(256))\n",
        "model.add(Dropout(0.25))\n",
        "model.add(Dense(128))\n",
        "model.add(Dropout(0.25))\n",
        "model.add(Dense(64))\n",
        "model.add(Dropout(0.25))\n",
        "model.add(Dense(4, activation='softmax')) #softmax is used as the activation function for multi-class classification problems where class membership is required on more than two class labels.\n",
        "model.summary()"
      ],
      "metadata": {
        "colab": {
          "base_uri": "https://localhost:8080/"
        },
        "id": "edpzWBDlFtfC",
        "outputId": "6a16efc9-cd3a-45db-84dc-0f21d01c19c0"
      },
      "execution_count": null,
      "outputs": [
        {
          "output_type": "stream",
          "name": "stdout",
          "text": [
            "Model: \"sequential_1\"\n",
            "_________________________________________________________________\n",
            " Layer (type)                Output Shape              Param #   \n",
            "=================================================================\n",
            " embedding_1 (Embedding)     (None, 177, 32)           320000    \n",
            "                                                                 \n",
            " bidirectional_2 (Bidirectio  (None, 177, 256)         164864    \n",
            " nal)                                                            \n",
            "                                                                 \n",
            " bidirectional_3 (Bidirectio  (None, 177, 128)         164352    \n",
            " nal)                                                            \n",
            "                                                                 \n",
            " global_max_pooling1d_1 (Glo  (None, 128)              0         \n",
            " balMaxPooling1D)                                                \n",
            "                                                                 \n",
            " dense_6 (Dense)             (None, 1024)              132096    \n",
            "                                                                 \n",
            " dropout_5 (Dropout)         (None, 1024)              0         \n",
            "                                                                 \n",
            " dense_7 (Dense)             (None, 512)               524800    \n",
            "                                                                 \n",
            " dropout_6 (Dropout)         (None, 512)               0         \n",
            "                                                                 \n",
            " dense_8 (Dense)             (None, 256)               131328    \n",
            "                                                                 \n",
            " dropout_7 (Dropout)         (None, 256)               0         \n",
            "                                                                 \n",
            " dense_9 (Dense)             (None, 128)               32896     \n",
            "                                                                 \n",
            " dropout_8 (Dropout)         (None, 128)               0         \n",
            "                                                                 \n",
            " dense_10 (Dense)            (None, 64)                8256      \n",
            "                                                                 \n",
            " dropout_9 (Dropout)         (None, 64)                0         \n",
            "                                                                 \n",
            " dense_11 (Dense)            (None, 4)                 260       \n",
            "                                                                 \n",
            "=================================================================\n",
            "Total params: 1,478,852\n",
            "Trainable params: 1,478,852\n",
            "Non-trainable params: 0\n",
            "_________________________________________________________________\n"
          ]
        }
      ]
    },
    {
      "cell_type": "code",
      "source": [
        "callbacks = [\n",
        "    EarlyStopping(     #EarlyStopping is used to stop at the epoch where val_accuracy does not improve significantly\n",
        "        monitor='val_accuracy',\n",
        "        min_delta=1e-4,\n",
        "        patience=4,\n",
        "        verbose=1\n",
        "    ),\n",
        "    ModelCheckpoint(\n",
        "        filepath='weights.h5',\n",
        "        monitor='val_accuracy', \n",
        "        mode='max', \n",
        "        save_best_only=True,\n",
        "        save_weights_only=True,\n",
        "        verbose=1\n",
        "    )]"
      ],
      "metadata": {
        "id": "vDc7IswBGjhT"
      },
      "execution_count": null,
      "outputs": []
    },
    {
      "cell_type": "markdown",
      "source": [
        "Running the model with 128 batch size and only 5 epochs, for time efficiency"
      ],
      "metadata": {
        "id": "2FmUARMq5Qv0"
      }
    },
    {
      "cell_type": "code",
      "source": [
        "model.compile(loss='sparse_categorical_crossentropy', #Sparse Categorical Crossentropy Loss because data is not one-hot encoded\n",
        "              optimizer='adam', \n",
        "              metrics=['accuracy']) \n",
        "\n",
        "model.fit(X_train, \n",
        "          y_train, \n",
        "          batch_size=128, \n",
        "          validation_data=(x_test, y_test), \n",
        "          epochs=5, \n",
        "          callbacks=callbacks)"
      ],
      "metadata": {
        "colab": {
          "base_uri": "https://localhost:8080/"
        },
        "id": "1MYfJ5dAGtUE",
        "outputId": "02674cd2-abc4-440d-c40c-f82254c64694"
      },
      "execution_count": null,
      "outputs": [
        {
          "output_type": "stream",
          "name": "stdout",
          "text": [
            "Epoch 1/5\n",
            "938/938 [==============================] - ETA: 0s - loss: 0.3647 - accuracy: 0.8743\n",
            "Epoch 1: val_accuracy improved from -inf to 0.91039, saving model to weights.h5\n",
            "938/938 [==============================] - 1538s 2s/step - loss: 0.3647 - accuracy: 0.8743 - val_loss: 0.2781 - val_accuracy: 0.9104\n",
            "Epoch 2/5\n",
            "938/938 [==============================] - ETA: 0s - loss: 0.2381 - accuracy: 0.9226\n",
            "Epoch 2: val_accuracy improved from 0.91039 to 0.91211, saving model to weights.h5\n",
            "938/938 [==============================] - 1525s 2s/step - loss: 0.2381 - accuracy: 0.9226 - val_loss: 0.2609 - val_accuracy: 0.9121\n",
            "Epoch 3/5\n",
            "938/938 [==============================] - ETA: 0s - loss: 0.1969 - accuracy: 0.9345\n",
            "Epoch 3: val_accuracy improved from 0.91211 to 0.91684, saving model to weights.h5\n",
            "938/938 [==============================] - 1523s 2s/step - loss: 0.1969 - accuracy: 0.9345 - val_loss: 0.2509 - val_accuracy: 0.9168\n",
            "Epoch 4/5\n",
            "938/938 [==============================] - ETA: 0s - loss: 0.1642 - accuracy: 0.9445\n",
            "Epoch 4: val_accuracy did not improve from 0.91684\n",
            "938/938 [==============================] - 1523s 2s/step - loss: 0.1642 - accuracy: 0.9445 - val_loss: 0.2917 - val_accuracy: 0.9025\n",
            "Epoch 5/5\n",
            "938/938 [==============================] - ETA: 0s - loss: 0.1338 - accuracy: 0.9541\n",
            "Epoch 5: val_accuracy did not improve from 0.91684\n",
            "938/938 [==============================] - 1520s 2s/step - loss: 0.1338 - accuracy: 0.9541 - val_loss: 0.3086 - val_accuracy: 0.9105\n"
          ]
        },
        {
          "output_type": "execute_result",
          "data": {
            "text/plain": [
              "<keras.callbacks.History at 0x7f8526b9c8d0>"
            ]
          },
          "metadata": {},
          "execution_count": 176
        }
      ]
    },
    {
      "cell_type": "code",
      "source": [
        "model.load_weights('weights.h5')\n",
        "model.save('model.hdf5')"
      ],
      "metadata": {
        "id": "o4TeOQd2Hcie"
      },
      "execution_count": null,
      "outputs": []
    },
    {
      "cell_type": "markdown",
      "source": [
        "Visualizing news class prediction in clearer way (We even created our own news text)"
      ],
      "metadata": {
        "id": "oX2UnSjf6JMm"
      }
    },
    {
      "cell_type": "code",
      "source": [
        "def modelDemo(news_text):\n",
        "\n",
        "  #News Labels\n",
        "\n",
        "  labels = ['World News', 'Sports News', 'Business News', 'Science-Technology News']\n",
        "  \n",
        "  test_seq = pad_sequences(tok.texts_to_sequences(news_text), maxlen=maxlen)\n",
        "\n",
        "  test_preds = [labels[np.argmax(i)] for i in model.predict(test_seq)]\n",
        "\n",
        "  for news, label in zip(news_text, test_preds):\n",
        "      # print('{} - {}'.format(news, label))\n",
        "      print('{} - {}'.format(colored(news, 'yellow'), colored(label, 'blue')))"
      ],
      "metadata": {
        "id": "vKvJVKWEFm2g"
      },
      "execution_count": null,
      "outputs": []
    },
    {
      "cell_type": "code",
      "source": [
        "modelDemo(['New evidence of virus risks from wildlife trade'])"
      ],
      "metadata": {
        "colab": {
          "base_uri": "https://localhost:8080/"
        },
        "id": "jokjcGdpFpmP",
        "outputId": "8e9921bb-22ce-42e6-a2c7-85dede8ecb47"
      },
      "execution_count": null,
      "outputs": [
        {
          "output_type": "stream",
          "name": "stdout",
          "text": [
            "\u001b[33mNew evidence of virus risks from wildlife trade\u001b[0m - \u001b[34mScience-Technology News\u001b[0m\n"
          ]
        }
      ]
    },
    {
      "cell_type": "code",
      "source": [
        "modelDemo(['Coronavirus: Bank pumps £100bn into UK economy to aid recovery'])\n"
      ],
      "metadata": {
        "colab": {
          "base_uri": "https://localhost:8080/"
        },
        "id": "A9wFiSIersON",
        "outputId": "b357947d-54e8-4f4f-8b5c-5b8b6daca03f"
      },
      "execution_count": null,
      "outputs": [
        {
          "output_type": "stream",
          "name": "stdout",
          "text": [
            "\u001b[33mCoronavirus: Bank pumps £100bn into UK economy to aid recovery\u001b[0m - \u001b[34mBusiness News\u001b[0m\n"
          ]
        }
      ]
    },
    {
      "cell_type": "code",
      "source": [
        "modelDemo(['ukrainian presidential candidate viktor yushchenko was poisoned with the most harmful known dioxin, which is contained in agent orange, a scientist who analyzed his blood said friday.'])\n"
      ],
      "metadata": {
        "colab": {
          "base_uri": "https://localhost:8080/"
        },
        "id": "dqZ4kft5rtPz",
        "outputId": "0b6685c8-b29b-4408-ac92-231058404974"
      },
      "execution_count": null,
      "outputs": [
        {
          "output_type": "stream",
          "name": "stdout",
          "text": [
            "\u001b[33mukrainian presidential candidate viktor yushchenko was poisoned with the most harmful known dioxin, which is contained in agent orange, a scientist who analyzed his blood said friday.\u001b[0m - \u001b[34mWorld News\u001b[0m\n"
          ]
        }
      ]
    },
    {
      "cell_type": "code",
      "source": [
        "modelDemo(['Huge victory: Cristiano Ronaldo scores hat-trick in decisive final'])\n"
      ],
      "metadata": {
        "colab": {
          "base_uri": "https://localhost:8080/"
        },
        "id": "Pm-K2a23sy83",
        "outputId": "79a4ec56-54ad-45c7-c3e4-6c9b5e948bc0"
      },
      "execution_count": null,
      "outputs": [
        {
          "output_type": "stream",
          "name": "stdout",
          "text": [
            "\u001b[33mHuge victory: Cristiano Ronaldo scores hat-trick in decisive final\u001b[0m - \u001b[34mSports News\u001b[0m\n"
          ]
        }
      ]
    },
    {
      "cell_type": "code",
      "source": [
        "modelDemo(['Disease in scientific experiment gets wild'])\n"
      ],
      "metadata": {
        "colab": {
          "base_uri": "https://localhost:8080/"
        },
        "id": "ZlL9Z-Kjs6X0",
        "outputId": "edc179d4-cbc9-40e3-cddc-a3140151cd7d"
      },
      "execution_count": null,
      "outputs": [
        {
          "output_type": "stream",
          "name": "stdout",
          "text": [
            "\u001b[33mDisease in scientific experiment gets wild\u001b[0m - \u001b[34mScience-Technology News\u001b[0m\n"
          ]
        }
      ]
    },
    {
      "cell_type": "code",
      "source": [
        "modelDemo(['My mom has discovered a new material that will get us to the moon'])"
      ],
      "metadata": {
        "colab": {
          "base_uri": "https://localhost:8080/"
        },
        "id": "M6uWtjr9uiv1",
        "outputId": "78925623-b0f9-4b6f-df51-dd8b38705522"
      },
      "execution_count": null,
      "outputs": [
        {
          "output_type": "stream",
          "name": "stdout",
          "text": [
            "\u001b[33mMy mom has discovered a new material that will get us to the moon\u001b[0m - \u001b[34mScience-Technology News\u001b[0m\n"
          ]
        }
      ]
    },
    {
      "cell_type": "markdown",
      "source": [
        "Although the accuracy of the model is pretty much the same as ML Linear SVC model (91%), looking at this visualization matrix we can see the number of correctly predicted news class is higher, especially in the Business and Science News. "
      ],
      "metadata": {
        "id": "tMTxeVTU51qy"
      }
    },
    {
      "cell_type": "code",
      "source": [
        "labels = ['World News', 'Sports News', 'Business News', 'Science-Technology News']\n",
        "preds = [np.argmax(i) for i in model.predict(x_test)]\n",
        "cm  = confusion_matrix(y_test, preds)\n",
        "plt.figure()\n",
        "plot_confusion_matrix(cm, figsize=(16,12), hide_ticks=True, cmap=plt.cm.Blues)\n",
        "plt.xticks(range(4), labels, fontsize=12)\n",
        "plt.yticks(range(4), labels, fontsize=12)\n",
        "plt.show()"
      ],
      "metadata": {
        "colab": {
          "base_uri": "https://localhost:8080/",
          "height": 746
        },
        "id": "wUyp3mcyh-NR",
        "outputId": "f7d2ca2d-cba2-484e-f504-6fd56e53b29d"
      },
      "execution_count": null,
      "outputs": [
        {
          "output_type": "display_data",
          "data": {
            "text/plain": [
              "<Figure size 432x288 with 0 Axes>"
            ]
          },
          "metadata": {}
        },
        {
          "output_type": "display_data",
          "data": {
            "text/plain": [
              "<Figure size 1152x864 with 1 Axes>"
            ],
            "image/png": "[encoded data removed]"
          },
          "metadata": {}
        }
      ]
    },
    {
      "cell_type": "code",
      "source": [
        "print(\"Recall of the model is {:.2f}\".format(recall_score(y_test, preds, average='micro')))\n",
        "print(\"Precision of the model is {:.2f}\".format(precision_score(y_test, preds, average='micro')))\n",
        "print(\"Accuracy of the model is {:.2f}\".format(accuracy_score(y_test, preds)))"
      ],
      "metadata": {
        "colab": {
          "base_uri": "https://localhost:8080/"
        },
        "id": "ag2c8tAgh_UP",
        "outputId": "88246ea7-5c49-4d94-ffeb-bf5226831b3c"
      },
      "execution_count": null,
      "outputs": [
        {
          "output_type": "stream",
          "name": "stdout",
          "text": [
            "Recall of the model is 0.92\n",
            "Precision of the model is 0.92\n",
            "Accuracy of the model is 0.92\n"
          ]
        }
      ]
    },
    {
      "cell_type": "markdown",
      "source": [
        "# Conclusion"
      ],
      "metadata": {
        "id": "0dYKOhDQ8NTC"
      }
    },
    {
      "cell_type": "markdown",
      "source": [
        "News Classification is very useful for news content management but also for audience segmentation and personalization, advertising / retargeting. Incorrectly predicted news class will result in content being irrelevant to audience, which is why accuracy is important in this dataset. Based on our experiment, the Bi-directional LSTM model has proven to improve the classification model. Further research to improve model would be to use higher number of epochs and batch size, and introduce other model such as BERT"
      ],
      "metadata": {
        "id": "F1VNShjR9Azt"
      }
    },
    {
      "cell_type": "markdown",
      "source": [
        "Dataset Information & Knowledge Source:\n",
        "\n",
        "http://www.di.unipi.it/~gulli/AG_corpus_of_news_articles.html\n",
        "\n",
        "https://github.com/nluninja/nlp_datasets/tree/main/ag_news/data\n",
        "\n",
        "https://www.kaggle.com/code/amananandrai/news-article-classifier-with-different-models\n",
        "\n",
        "https://github.com/nikenaml/news-classification-nlp-neural-network\n",
        "\n",
        "https://www.tensorflow.org/datasets/catalog/ag_news_subset\n"
      ],
      "metadata": {
        "id": "mrfJ5VY7cx1n"
      }
    },
    {
      "cell_type": "code",
      "source": [],
      "metadata": {
        "id": "u_vdhaOSgfIb"
      },
      "execution_count": null,
      "outputs": []
    }
  ]
}