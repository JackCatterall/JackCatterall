{
  "nbformat": 4,
  "nbformat_minor": 0,
  "metadata": {
    "colab": {
      "provenance": []
    },
    "kernelspec": {
      "name": "python3",
      "display_name": "Python 3"
    },
    "language_info": {
      "name": "python"
    }
  },
  "cells": [
    {
      "cell_type": "markdown",
      "source": [
        "# 2022-BBS-DM EXAM - Big Data pipeline\n",
        "\n",
        "Use this notebook to create a Big Data pipeline with PySpark according to the instructions below.\n",
        "\n",
        "It is optional to conclude this part by loading the results on Tableau and creating some OLAP queries.\n",
        "\n",
        "## Submission\n",
        "\n",
        "Submit your Notebook (and possibly your Tableau file) through the form at [this link](https://forms.gle/btQmVMrcPtQnoRgv7). \n",
        "\n",
        "In form, make your that:\n",
        "- Your BBS email account is used\n",
        "- File names begin with surname_name (e.g., rossi_mario_pyspark.ipynb)\n",
        "\n",
        "## Evaluation\n",
        "\n",
        "The Notebook will be mainly graded on the accuracy of the result; code quality and efficiency (e.g., using 1 line of code instead of 5 to do the same thing) will be considered as well, though with a lower weight.\n",
        "\n",
        "The submission of the Tableau file can provide extra points."
      ],
      "metadata": {
        "id": "Gy2WmCf_LNh0"
      }
    },
    {
      "cell_type": "markdown",
      "source": [
        "# Install Spark & initialize application\n",
        "\n",
        "Run the following code to install Spark in your Colab environment."
      ],
      "metadata": {
        "id": "EsElqAaj4Sse"
      }
    },
    {
      "cell_type": "code",
      "execution_count": null,
      "metadata": {
        "id": "fbvEUbWIHm2s"
      },
      "outputs": [],
      "source": [
        "!apt-get install openjdk-8-jdk-headless -qq > /dev/null\n",
        "!wget -q https://archive.apache.org/dist/spark/spark-3.2.1/spark-3.2.1-bin-hadoop2.7.tgz\n",
        "!tar xf spark-3.2.1-bin-hadoop2.7.tgz\n",
        "!pip install -q findspark"
      ]
    },
    {
      "cell_type": "code",
      "source": [
        "import os\n",
        "os.environ[\"JAVA_HOME\"] = \"/usr/lib/jvm/java-8-openjdk-amd64\"\n",
        "os.environ[\"SPARK_HOME\"] = \"/content/spark-3.2.1-bin-hadoop2.7\"\n",
        "import findspark\n",
        "findspark.init()\n",
        "findspark.find() # Should return '/content/spark-3.2.1-bin-hadoop2.7'"
      ],
      "metadata": {
        "id": "4oTFM5YtJvv7",
        "colab": {
          "base_uri": "https://localhost:8080/",
          "height": 35
        },
        "outputId": "6e9ab555-ce15-49ae-eed0-dba6dc94382d"
      },
      "execution_count": null,
      "outputs": [
        {
          "output_type": "execute_result",
          "data": {
            "text/plain": [
              "'/content/spark-3.2.1-bin-hadoop2.7'"
            ],
            "application/vnd.google.colaboratory.intrinsic+json": {
              "type": "string"
            }
          },
          "metadata": {},
          "execution_count": 2
        }
      ]
    },
    {
      "cell_type": "code",
      "source": [
        "from pyspark.sql import SparkSession\n",
        "\n",
        "spark = SparkSession.builder\\\n",
        "        .master(\"local\")\\\n",
        "        .appName(\"Colab\")\\\n",
        "        .config('spark.ui.port', '4050')\\\n",
        "        .getOrCreate()\n",
        "sc = spark.sparkContext\n",
        "\n",
        "sc"
      ],
      "metadata": {
        "id": "KJlzVAmbJ9vL",
        "colab": {
          "base_uri": "https://localhost:8080/",
          "height": 196
        },
        "outputId": "7efcccc5-ad56-4275-ee67-72290ecce341"
      },
      "execution_count": null,
      "outputs": [
        {
          "output_type": "execute_result",
          "data": {
            "text/plain": [
              "<SparkContext master=local appName=Colab>"
            ],
            "text/html": [
              "\n",
              "        <div>\n",
              "            <p><b>SparkContext</b></p>\n",
              "\n",
              "            <p><a href=\"http://a50a829ba603:4050\">Spark UI</a></p>\n",
              "\n",
              "            <dl>\n",
              "              <dt>Version</dt>\n",
              "                <dd><code>v3.2.1</code></dd>\n",
              "              <dt>Master</dt>\n",
              "                <dd><code>local</code></dd>\n",
              "              <dt>AppName</dt>\n",
              "                <dd><code>Colab</code></dd>\n",
              "            </dl>\n",
              "        </div>\n",
              "        "
            ]
          },
          "metadata": {},
          "execution_count": 3
        }
      ]
    },
    {
      "cell_type": "markdown",
      "source": [
        "# MovieLens\n",
        "\n",
        "[MovieLens](https://grouplens.org/datasets/movielens/) is a dataset about movies and ratings. You are working with two files:\n",
        "\n",
        "- ml-movies.csv: contains details about the movies\n",
        "  - Each movie is identified by ```movieId```\n",
        "  - Each movie is associated to one or more genres, which are separated by a pipeline (e.g., \"Adventure|Children|Fantasy\")\n",
        "- ml-ratings-1m.csv: contains 1 million ratings (in a range from 1 to 5) given by users to movies\n",
        "  - Each rating is identified by ```movieId``` and ```userId```\n",
        "  - Each rating is associated to a timestamp (e.g., 1256677221)\n",
        "\n",
        "Your goal is to create a single file representing the following cube.\n",
        "\n",
        "![image.png](data:image/png;base64,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)\n",
        "\n",
        "The procedure to create the cube is the following.\n",
        "\n",
        "1. On the ml-movies.csv file:\n",
        "  - Get rid of the title and userId columns\n",
        "  - Each line represents a movie, and each movie has many genres. We want to \"explode\" the genres, in order to have the same movie repeated for each genre (i.e., the equivalent of the ```flatMap``` on RDDs. To do so:\n",
        "    - Use the ```split(df['mycolumn'],\"\\\\|\")``` to split a column on the pipe character; it converts from one String to an array of Strings\n",
        "    - Use the ```explode_outer()``` method on the result to produce one line per value\n",
        "    - Replace null genres with the \"Unknown\" value\n",
        "2. On the ml-ratings-1m.csv:\n",
        "  - Convert the decimal character from comma to dot (as done during class)\n",
        "  - Convert the timestamp to the \"yyyy\" format; to do so, use the ```from_unixtime(dfRatings['my_column'],\"mydateformat\")``` to convert from timestamp to the format of your choice\n",
        "3. Join the two datasets on the ```movieId```\n",
        "4. Aggregate the data by genre and year to calculate the average rating and count the records\n",
        "5. Save the result to a file\n",
        "6. (Optional) Open the file with Tableau and produce\n",
        "  - the monthly trend of average ratings by genre;\n",
        "  - a bar chart where, for each genre, the height is the number of ratings and the color is the average rating"
      ],
      "metadata": {
        "id": "8biYjnVtmZeR"
      }
    },
    {
      "cell_type": "code",
      "source": [
        "!wget https://raw.githubusercontent.com/w4bo/2022-bbs-dm/main/notebooks/datasets/ml-movies.csv\n",
        "!wget https://raw.githubusercontent.com/w4bo/2022-bbs-dm/main/notebooks/datasets/ml-ratings-1m.csv"
      ],
      "metadata": {
        "id": "rEq_fpzNF1pE",
        "colab": {
          "base_uri": "https://localhost:8080/"
        },
        "outputId": "1a556b90-f747-423f-a658-d70c75da3957"
      },
      "execution_count": null,
      "outputs": [
        {
          "output_type": "stream",
          "name": "stdout",
          "text": [
            "--2022-04-22 13:38:59--  https://raw.githubusercontent.com/w4bo/2022-bbs-dm/main/notebooks/datasets/ml-movies.csv\n",
            "Resolving raw.githubusercontent.com (raw.githubusercontent.com)... 185.199.110.133, 185.199.108.133, 185.199.109.133, ...\n",
            "Connecting to raw.githubusercontent.com (raw.githubusercontent.com)|185.199.110.133|:443... connected.\n",
            "HTTP request sent, awaiting response... 200 OK\n",
            "Length: 2858181 (2.7M) [text/plain]\n",
            "Saving to: ‘ml-movies.csv’\n",
            "\n",
            "ml-movies.csv       100%[===================>]   2.73M  --.-KB/s    in 0.07s   \n",
            "\n",
            "2022-04-22 13:39:00 (41.2 MB/s) - ‘ml-movies.csv’ saved [2858181/2858181]\n",
            "\n",
            "--2022-04-22 13:39:00--  https://raw.githubusercontent.com/w4bo/2022-bbs-dm/main/notebooks/datasets/ml-ratings-1m.csv\n",
            "Resolving raw.githubusercontent.com (raw.githubusercontent.com)... 185.199.108.133, 185.199.109.133, 185.199.110.133, ...\n",
            "Connecting to raw.githubusercontent.com (raw.githubusercontent.com)|185.199.108.133|:443... connected.\n",
            "HTTP request sent, awaiting response... 200 OK\n",
            "Length: 25640651 (24M) [text/plain]\n",
            "Saving to: ‘ml-ratings-1m.csv’\n",
            "\n",
            "ml-ratings-1m.csv   100%[===================>]  24.45M  --.-KB/s    in 0.1s    \n",
            "\n",
            "2022-04-22 13:39:01 (163 MB/s) - ‘ml-ratings-1m.csv’ saved [25640651/25640651]\n",
            "\n"
          ]
        }
      ]
    },
    {
      "cell_type": "code",
      "source": [
        "from pyspark.sql.functions import *\n",
        "import datetime"
      ],
      "metadata": {
        "id": "YKrMQw-2GGci"
      },
      "execution_count": null,
      "outputs": []
    },
    {
      "cell_type": "markdown",
      "source": [
        "## Spark"
      ],
      "metadata": {
        "id": "xO6bQ3NQwDAj"
      }
    },
    {
      "cell_type": "markdown",
      "source": [
        "1. On the ml-movies.csv file:\n",
        "  - Get rid of the title and userId columns\n",
        "  - Each line represents a movie, and each movie has many genres. We want to \"explode\" the genres, in order to have the same movie repeated for each genre (i.e., the equivalent of the ```flatMap``` on RDDs. To do so:\n",
        "    - Use the ```split(df['mycolumn'],\"\\\\|\")``` to split a column on the pipe character; it converts from one String to an array of Strings\n",
        "    - Use the ```explode_outer()``` method on the result to produce one line per value\n",
        "    - Replace null genres with the \"Unknown\" value"
      ],
      "metadata": {
        "id": "8tEU62tY2A8G"
      }
    },
    {
      "cell_type": "code",
      "source": [
        "# TODO\n",
        "df_movie = spark.read.option(\"delimiter\", \",\").option(\"header\", \"True\").csv(\"ml-movies.csv\")\n",
        "df_movie.show()\n",
        "from pyspark.sql.functions import concat, lit\n"
      ],
      "metadata": {
        "id": "Xcd4fAhgeDhH",
        "colab": {
          "base_uri": "https://localhost:8080/"
        },
        "outputId": "f057b6d5-81ef-4a2f-9558-57851d02a2e7"
      },
      "execution_count": null,
      "outputs": [
        {
          "output_type": "stream",
          "name": "stdout",
          "text": [
            "+-------+--------------------+--------------------+\n",
            "|movieId|               title|              genres|\n",
            "+-------+--------------------+--------------------+\n",
            "|      1|    Toy Story (1995)|Adventure|Animati...|\n",
            "|      2|      Jumanji (1995)|Adventure|Childre...|\n",
            "|      3|Grumpier Old Men ...|      Comedy|Romance|\n",
            "|      4|Waiting to Exhale...|Comedy|Drama|Romance|\n",
            "|      5|Father of the Bri...|              Comedy|\n",
            "|      6|         Heat (1995)|Action|Crime|Thri...|\n",
            "|      7|      Sabrina (1995)|                null|\n",
            "|      8| Tom and Huck (1995)|  Adventure|Children|\n",
            "|      9| Sudden Death (1995)|                null|\n",
            "|     10|    GoldenEye (1995)|Action|Adventure|...|\n",
            "|     11|American Presiden...|Comedy|Drama|Romance|\n",
            "|     12|Dracula: Dead and...|       Comedy|Horror|\n",
            "|     13|        Balto (1995)|Adventure|Animati...|\n",
            "|     14|        Nixon (1995)|                null|\n",
            "|     15|Cutthroat Island ...|Action|Adventure|...|\n",
            "|     16|       Casino (1995)|         Crime|Drama|\n",
            "|     17|Sense and Sensibi...|       Drama|Romance|\n",
            "|     18|   Four Rooms (1995)|              Comedy|\n",
            "|     19|Ace Ventura: When...|              Comedy|\n",
            "|     20|  Money Train (1995)|Action|Comedy|Cri...|\n",
            "+-------+--------------------+--------------------+\n",
            "only showing top 20 rows\n",
            "\n"
          ]
        }
      ]
    },
    {
      "cell_type": "code",
      "source": [
        "movies = df_movie.select('movieId','genres')\n",
        "movies.show()"
      ],
      "metadata": {
        "colab": {
          "base_uri": "https://localhost:8080/"
        },
        "id": "nUnxUkvjirRY",
        "outputId": "1e190be3-2b13-4ceb-a655-4c9439707f79"
      },
      "execution_count": null,
      "outputs": [
        {
          "output_type": "stream",
          "name": "stdout",
          "text": [
            "+-------+--------------------+\n",
            "|movieId|              genres|\n",
            "+-------+--------------------+\n",
            "|      1|Adventure|Animati...|\n",
            "|      2|Adventure|Childre...|\n",
            "|      3|      Comedy|Romance|\n",
            "|      4|Comedy|Drama|Romance|\n",
            "|      5|              Comedy|\n",
            "|      6|Action|Crime|Thri...|\n",
            "|      7|                null|\n",
            "|      8|  Adventure|Children|\n",
            "|      9|                null|\n",
            "|     10|Action|Adventure|...|\n",
            "|     11|Comedy|Drama|Romance|\n",
            "|     12|       Comedy|Horror|\n",
            "|     13|Adventure|Animati...|\n",
            "|     14|                null|\n",
            "|     15|Action|Adventure|...|\n",
            "|     16|         Crime|Drama|\n",
            "|     17|       Drama|Romance|\n",
            "|     18|              Comedy|\n",
            "|     19|              Comedy|\n",
            "|     20|Action|Comedy|Cri...|\n",
            "+-------+--------------------+\n",
            "only showing top 20 rows\n",
            "\n"
          ]
        }
      ]
    },
    {
      "cell_type": "code",
      "source": [
        "genres = df_movie.select('movieId', split(movies['genres'],\"\\\\|\").alias('genres'))\n",
        "genres.show()"
      ],
      "metadata": {
        "colab": {
          "base_uri": "https://localhost:8080/"
        },
        "id": "xjF118SNjW0K",
        "outputId": "559688e5-25f0-44dd-e50b-de237e759a49"
      },
      "execution_count": null,
      "outputs": [
        {
          "output_type": "stream",
          "name": "stdout",
          "text": [
            "+-------+--------------------+\n",
            "|movieId|              genres|\n",
            "+-------+--------------------+\n",
            "|      1|[Adventure, Anima...|\n",
            "|      2|[Adventure, Child...|\n",
            "|      3|   [Comedy, Romance]|\n",
            "|      4|[Comedy, Drama, R...|\n",
            "|      5|            [Comedy]|\n",
            "|      6|[Action, Crime, T...|\n",
            "|      7|                null|\n",
            "|      8|[Adventure, Child...|\n",
            "|      9|                null|\n",
            "|     10|[Action, Adventur...|\n",
            "|     11|[Comedy, Drama, R...|\n",
            "|     12|    [Comedy, Horror]|\n",
            "|     13|[Adventure, Anima...|\n",
            "|     14|                null|\n",
            "|     15|[Action, Adventur...|\n",
            "|     16|      [Crime, Drama]|\n",
            "|     17|    [Drama, Romance]|\n",
            "|     18|            [Comedy]|\n",
            "|     19|            [Comedy]|\n",
            "|     20|[Action, Comedy, ...|\n",
            "+-------+--------------------+\n",
            "only showing top 20 rows\n",
            "\n"
          ]
        }
      ]
    },
    {
      "cell_type": "code",
      "source": [
        "genres_2 = genres.select('movieId', explode_outer('genres').alias('genres'))\n",
        "genres_2.show()"
      ],
      "metadata": {
        "colab": {
          "base_uri": "https://localhost:8080/"
        },
        "id": "B-zrkjUbke1-",
        "outputId": "5f4b50b3-b636-4f61-bc44-336eb0df1131"
      },
      "execution_count": null,
      "outputs": [
        {
          "output_type": "stream",
          "name": "stdout",
          "text": [
            "+-------+---------+\n",
            "|movieId|   genres|\n",
            "+-------+---------+\n",
            "|      1|Adventure|\n",
            "|      1|Animation|\n",
            "|      1| Children|\n",
            "|      1|   Comedy|\n",
            "|      1|  Fantasy|\n",
            "|      2|Adventure|\n",
            "|      2| Children|\n",
            "|      2|  Fantasy|\n",
            "|      3|   Comedy|\n",
            "|      3|  Romance|\n",
            "|      4|   Comedy|\n",
            "|      4|    Drama|\n",
            "|      4|  Romance|\n",
            "|      5|   Comedy|\n",
            "|      6|   Action|\n",
            "|      6|    Crime|\n",
            "|      6| Thriller|\n",
            "|      7|     null|\n",
            "|      8|Adventure|\n",
            "|      8| Children|\n",
            "+-------+---------+\n",
            "only showing top 20 rows\n",
            "\n"
          ]
        }
      ]
    },
    {
      "cell_type": "code",
      "source": [
        "genres_2.na.fill(value=\"Unknown\",subset=[\"genres\"]).show()"
      ],
      "metadata": {
        "colab": {
          "base_uri": "https://localhost:8080/"
        },
        "id": "HF7G-uIelWVm",
        "outputId": "e6e8661e-6b36-4de2-d7cd-a7185d1c71aa"
      },
      "execution_count": null,
      "outputs": [
        {
          "output_type": "stream",
          "name": "stdout",
          "text": [
            "+-------+---------+\n",
            "|movieId|   genres|\n",
            "+-------+---------+\n",
            "|      1|Adventure|\n",
            "|      1|Animation|\n",
            "|      1| Children|\n",
            "|      1|   Comedy|\n",
            "|      1|  Fantasy|\n",
            "|      2|Adventure|\n",
            "|      2| Children|\n",
            "|      2|  Fantasy|\n",
            "|      3|   Comedy|\n",
            "|      3|  Romance|\n",
            "|      4|   Comedy|\n",
            "|      4|    Drama|\n",
            "|      4|  Romance|\n",
            "|      5|   Comedy|\n",
            "|      6|   Action|\n",
            "|      6|    Crime|\n",
            "|      6| Thriller|\n",
            "|      7|  Unknown|\n",
            "|      8|Adventure|\n",
            "|      8| Children|\n",
            "+-------+---------+\n",
            "only showing top 20 rows\n",
            "\n"
          ]
        }
      ]
    },
    {
      "cell_type": "markdown",
      "source": [
        "2. On the ml-ratings-1m.csv:\n",
        "  - Convert the decimal character from comma to dot (as done during class)\n",
        "  - Convert the timestamp to the \"yyyy\" format; to do so, use the ```from_unixtime(dfRatings['my_column'],\"mydateformat\")``` to convert from timestamp to the format of your choice"
      ],
      "metadata": {
        "id": "Xhfjpccc2H0L"
      }
    },
    {
      "cell_type": "code",
      "source": [
        "# TODO\n",
        "df_ratings = spark.read.option(\"delimiter\", \";\").option(\"header\", \"true\").csv(\"ml-ratings-1m.csv\")\n",
        "df_ratings.show()"
      ],
      "metadata": {
        "id": "_TUwF9e4HBs8",
        "colab": {
          "base_uri": "https://localhost:8080/"
        },
        "outputId": "a13190eb-328c-43b3-ad4f-625a516cb61c"
      },
      "execution_count": null,
      "outputs": [
        {
          "output_type": "stream",
          "name": "stdout",
          "text": [
            "+------+-------+------+----------+\n",
            "|userId|movieId|rating| timestamp|\n",
            "+------+-------+------+----------+\n",
            "|     1|    307|   3,5|1256677221|\n",
            "|     1|    481|   3,5|1256677456|\n",
            "|     1|   1091|   1,5|1256677471|\n",
            "|     1|   1257|   4,5|1256677460|\n",
            "|     1|   1449|   4,5|1256677264|\n",
            "|     1|   1590|   2,5|1256677236|\n",
            "|     1|   1591|   1,5|1256677475|\n",
            "|     1|   2134|   4,5|1256677464|\n",
            "|     1|   2478|   4,0|1256677239|\n",
            "|     1|   2840|   3,0|1256677500|\n",
            "|     1|   2986|   2,5|1256677496|\n",
            "|     1|   3020|   4,0|1256677260|\n",
            "|     1|   3424|   4,5|1256677444|\n",
            "|     1|   3698|   3,5|1256677243|\n",
            "|     1|   3826|   2,0|1256677210|\n",
            "|     1|   3893|   3,5|1256677486|\n",
            "|     2|    170|   3,5|1192913581|\n",
            "|     2|    849|   3,5|1192913537|\n",
            "|     2|   1186|   3,5|1192913611|\n",
            "|     2|   1235|   3,0|1192913585|\n",
            "+------+-------+------+----------+\n",
            "only showing top 20 rows\n",
            "\n"
          ]
        }
      ]
    },
    {
      "cell_type": "code",
      "source": [
        "df_ratings = df_ratings.withColumn('rating', regexp_replace('rating', ',', '\\\\.'))\n",
        "df_ratings = df_ratings.withColumn('rating', df_ratings['rating'].cast(\"float\"))\n",
        "df_ratings = df_ratings.withColumn('timestamp', from_unixtime(df_ratings['timestamp'],\"yyyy\"))\n",
        "df_ratings.show()"
      ],
      "metadata": {
        "colab": {
          "base_uri": "https://localhost:8080/"
        },
        "id": "muJrWXaom1Gg",
        "outputId": "d35e8084-46cc-4fb0-b79a-df176afcc1b0"
      },
      "execution_count": null,
      "outputs": [
        {
          "output_type": "stream",
          "name": "stdout",
          "text": [
            "+------+-------+------+---------+\n",
            "|userId|movieId|rating|timestamp|\n",
            "+------+-------+------+---------+\n",
            "|     1|    307|   3.5|     2009|\n",
            "|     1|    481|   3.5|     2009|\n",
            "|     1|   1091|   1.5|     2009|\n",
            "|     1|   1257|   4.5|     2009|\n",
            "|     1|   1449|   4.5|     2009|\n",
            "|     1|   1590|   2.5|     2009|\n",
            "|     1|   1591|   1.5|     2009|\n",
            "|     1|   2134|   4.5|     2009|\n",
            "|     1|   2478|   4.0|     2009|\n",
            "|     1|   2840|   3.0|     2009|\n",
            "|     1|   2986|   2.5|     2009|\n",
            "|     1|   3020|   4.0|     2009|\n",
            "|     1|   3424|   4.5|     2009|\n",
            "|     1|   3698|   3.5|     2009|\n",
            "|     1|   3826|   2.0|     2009|\n",
            "|     1|   3893|   3.5|     2009|\n",
            "|     2|    170|   3.5|     2007|\n",
            "|     2|    849|   3.5|     2007|\n",
            "|     2|   1186|   3.5|     2007|\n",
            "|     2|   1235|   3.0|     2007|\n",
            "+------+-------+------+---------+\n",
            "only showing top 20 rows\n",
            "\n"
          ]
        }
      ]
    },
    {
      "cell_type": "markdown",
      "source": [
        "3. Join the two datasets on the ```movieId```"
      ],
      "metadata": {
        "id": "eup5SbFC2bQF"
      }
    },
    {
      "cell_type": "code",
      "source": [
        "# TODO\n",
        "df_movie_rating = df=movies.join(df_ratings,[\"movieId\"])\n",
        "df_movie_rating.show()"
      ],
      "metadata": {
        "id": "OaknyiXHeCbF",
        "colab": {
          "base_uri": "https://localhost:8080/"
        },
        "outputId": "37c15ca9-2880-4e14-c6ab-5b8515d5786c"
      },
      "execution_count": null,
      "outputs": [
        {
          "output_type": "stream",
          "name": "stdout",
          "text": [
            "+-------+--------------------+------+------+---------+\n",
            "|movieId|              genres|userId|rating|timestamp|\n",
            "+-------+--------------------+------+------+---------+\n",
            "|    307|               Drama|     1|   3.5|     2009|\n",
            "|    481|      Drama|Thriller|     1|   3.5|     2009|\n",
            "|   1091|              Comedy|     1|   1.5|     2009|\n",
            "|   1257|      Comedy|Romance|     1|   4.5|     2009|\n",
            "|   1449|              Comedy|     1|   4.5|     2009|\n",
            "|   1590|Horror|Sci-Fi|Thr...|     1|   2.5|     2009|\n",
            "|   1591|Action|Adventure|...|     1|   1.5|     2009|\n",
            "|   2134|Comedy|Fantasy|Sc...|     1|   4.5|     2009|\n",
            "|   2478|      Comedy|Western|     1|   4.0|     2009|\n",
            "|   2840|      Drama|Thriller|     1|   3.0|     2009|\n",
            "|   2986|Action|Crime|Sci-...|     1|   2.5|     2009|\n",
            "|   3020|        Action|Drama|     1|   4.0|     2009|\n",
            "|   3424|               Drama|     1|   4.5|     2009|\n",
            "|   3698|       Action|Sci-Fi|     1|   3.5|     2009|\n",
            "|   3826|Horror|Sci-Fi|Thr...|     1|   2.0|     2009|\n",
            "|   3893|Comedy|Crime|Dram...|     1|   3.5|     2009|\n",
            "|    170|Action|Adventure|...|     2|   3.5|     2007|\n",
            "|    849|Action|Adventure|...|     2|   3.5|     2007|\n",
            "|   1186|               Drama|     2|   3.5|     2007|\n",
            "|   1235|Comedy|Drama|Romance|     2|   3.0|     2007|\n",
            "+-------+--------------------+------+------+---------+\n",
            "only showing top 20 rows\n",
            "\n"
          ]
        }
      ]
    },
    {
      "cell_type": "markdown",
      "source": [
        "4. Aggregate the data by genre and year to calculate the average rating and count the records"
      ],
      "metadata": {
        "id": "sb0XkXa9Orsf"
      }
    },
    {
      "cell_type": "code",
      "source": [
        "# TODO\n",
        "df_movie_rating1 = df_movie_rating.groupBy(\"genres\", \"timestamp\").agg({'rating': 'avg'})\n",
        "df_movie_rating1.count()\n",
        "df_movie_rating1.show()"
      ],
      "metadata": {
        "id": "uR5yZvY4Rgr_",
        "colab": {
          "base_uri": "https://localhost:8080/"
        },
        "outputId": "7889e9a4-f19f-4a21-f559-a8807e655f16"
      },
      "execution_count": null,
      "outputs": [
        {
          "output_type": "stream",
          "name": "stdout",
          "text": [
            "+--------------------+---------+------------------+\n",
            "|              genres|timestamp|       avg(rating)|\n",
            "+--------------------+---------+------------------+\n",
            "|Adventure|Animati...|     2000|               3.9|\n",
            "|Crime|Drama|Sci-F...|     2013|3.8958333333333335|\n",
            "|Action|Adventure|...|     2013|3.5609756097560976|\n",
            "| Crime|Drama|Romance|     1996|3.5454545454545454|\n",
            "|Action|Crime|Dram...|     1996| 2.472972972972973|\n",
            "|Children|Comedy|R...|     2009|3.0555555555555554|\n",
            "|Adventure|Animati...|     2009| 3.660427807486631|\n",
            "|Adventure|Comedy|...|     2008|3.3714285714285714|\n",
            "|           Drama|War|     2016| 3.945774647887324|\n",
            "|Action|Sci-Fi|Thr...|     2004|3.5420258620689653|\n",
            "|Animation|Childre...|     2009|              3.75|\n",
            "|Action|Adventure|...|     2004|3.6485148514851486|\n",
            "|Action|Adventure|...|     2018| 3.392857142857143|\n",
            "|Crime|Drama|Film-...|     1999| 4.191489361702128|\n",
            "|Fantasy|Horror|My...|     2010| 3.608695652173913|\n",
            "|              Sci-Fi|     2010| 3.269230769230769|\n",
            "|     Animation|Drama|     2010|3.9166666666666665|\n",
            "|Adventure|Animati...|     2010|               4.0|\n",
            "|Adventure|Comedy|...|     2017|3.6492537313432836|\n",
            "|Action|Drama|Horr...|     2015| 3.638888888888889|\n",
            "+--------------------+---------+------------------+\n",
            "only showing top 20 rows\n",
            "\n"
          ]
        }
      ]
    },
    {
      "cell_type": "markdown",
      "source": [
        "5. Save the result to a file"
      ],
      "metadata": {
        "id": "bPzutmNo2uNv"
      }
    },
    {
      "cell_type": "code",
      "source": [
        "# TODO\n",
        "\n",
        "df_movie_rating1.write.mode('overwrite').option('header','true').csv(\"df_movie_rating1\")\n"
      ],
      "metadata": {
        "id": "pKTH93LQu61U"
      },
      "execution_count": null,
      "outputs": []
    },
    {
      "cell_type": "markdown",
      "source": [
        "## (Optional) Tableau\n",
        "\n",
        "Open the file with Tableau and produce\n",
        "  - the monthly trend of average ratings by genre;\n",
        "  - a bar chart where, for each genre, the height is the number of ratings and the color is the average rating"
      ],
      "metadata": {
        "id": "gyd8xh3AEtxm"
      }
    }
  ]
}