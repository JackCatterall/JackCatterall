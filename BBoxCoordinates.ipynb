{
  "nbformat": 4,
  "nbformat_minor": 0,
  "metadata": {
    "colab": {
      "provenance": []
    },
    "kernelspec": {
      "name": "python3",
      "display_name": "Python 3"
    },
    "language_info": {
      "name": "python"
    }
  },
  "cells": [
    {
      "cell_type": "code",
      "source": [
        "## All required imports for the notebook\n",
        "from google.colab import files\n",
        "import zipfile\n",
        "import xml.etree.ElementTree as ET\n",
        "\n",
        "import PIL\n",
        "from PIL import Image\n",
        "\n",
        "import os\n",
        "from google.colab import drive\n",
        "drive.mount('/content/gdrive')\n",
        "\n",
        "import json"
      ],
      "metadata": {
        "colab": {
          "base_uri": "https://localhost:8080/"
        },
        "id": "B9vlI_5tMpx_",
        "outputId": "faf2fb55-1a2a-448b-f5b5-f730bf5d7007"
      },
      "execution_count": null,
      "outputs": [
        {
          "output_type": "stream",
          "name": "stdout",
          "text": [
            "Mounted at /content/gdrive\n"
          ]
        }
      ]
    },
    {
      "cell_type": "code",
      "source": [
        "## file uploader from disk - for XML zip file\n",
        "uploaded = files.upload()"
      ],
      "metadata": {
        "id": "VBUGOLSbdYnG",
        "colab": {
          "resources": {
            "http://localhost:8080/nbextensions/google.colab/files.js": {
              "data": "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",
              "ok": true,
              "headers": [
                [
                  "content-type",
                  "application/javascript"
                ]
              ],
              "status": 200,
              "status_text": ""
            }
          },
          "base_uri": "https://localhost:8080/",
          "height": 73
        },
        "outputId": "031db763-fe44-4c4f-dc04-552c670f5244"
      },
      "execution_count": null,
      "outputs": [
        {
          "output_type": "display_data",
          "data": {
            "text/plain": [
              "<IPython.core.display.HTML object>"
            ],
            "text/html": [
              "\n",
              "     <input type=\"file\" id=\"files-d47fb34e-149f-4aad-b7a4-757a7c74a5e0\" name=\"files[]\" multiple disabled\n",
              "        style=\"border:none\" />\n",
              "     <output id=\"result-d47fb34e-149f-4aad-b7a4-757a7c74a5e0\">\n",
              "      Upload widget is only available when the cell has been executed in the\n",
              "      current browser session. Please rerun this cell to enable.\n",
              "      </output>\n",
              "      <script src=\"/nbextensions/google.colab/files.js\"></script> "
            ]
          },
          "metadata": {}
        },
        {
          "output_type": "stream",
          "name": "stdout",
          "text": [
            "Saving xmldata.zip to xmldata.zip\n"
          ]
        }
      ]
    },
    {
      "cell_type": "code",
      "source": [
        "## create dictionaries for Image BBox coordinates and other data\n",
        "imgBoxDict = {}\n",
        "imgOtherParametersDict = {}"
      ],
      "metadata": {
        "id": "mTUClSEMmsaf"
      },
      "execution_count": null,
      "outputs": []
    },
    {
      "cell_type": "code",
      "source": [
        "## created constructor for this type object \"ImgOtherParameters\"\n",
        "## initialising the objects that the value is being passed to - using self property folder to link to the new one made with the creation \n",
        "class ImgOtherParameters:\n",
        "  def __init__(self, folder, filename, path, database, depth, segmented, name, pose, truncated, difficult): \n",
        "    self.folder = folder\n",
        "    self.filename = filename\n",
        "    self.path = path\n",
        "    self.database = database\n",
        "    self.depth = depth\n",
        "    self.segmented = segmented\n",
        "    self.name = name\n",
        "    self.pose = pose\n",
        "    self.truncated = truncated\n",
        "    self.difficult = difficult"
      ],
      "metadata": {
        "id": "r21Z4O7s1fyB"
      },
      "execution_count": null,
      "outputs": []
    },
    {
      "cell_type": "code",
      "source": [
        "##create class of Box coordinates, to be changed later that can be joined with the other data and compiled after the resize\n",
        "class Box:\n",
        "  def __init__(self, width, height, xmin, ymin, xmax, ymax):\n",
        "    self.width = int(width)\n",
        "    self.height = int(height)\n",
        "    self.xmin = int(xmin)\n",
        "    self.ymin = int(ymin)\n",
        "    self.xmax = int(xmax)\n",
        "    self.ymax = int(ymax)\n",
        "\n",
        "## created the override of __str__ method, to redefine the way on how the Box will be print\n",
        "  def __str__(self): \n",
        "    return str(self.width) + \"; \"+ str(self.height) + \"; \" + str(self.xmin) + \"; \" + str(self.ymin) + \"; \" + str(self.xmax) + \"; \" + str(self.ymax) + \";\""
      ],
      "metadata": {
        "id": "UzuYPoi2nMI0"
      },
      "execution_count": null,
      "outputs": []
    },
    {
      "cell_type": "code",
      "source": [
        "## read the zip file of the XML data\n",
        "zf = zipfile.ZipFile('xmldata.zip', 'r')\n",
        "\n",
        "#Parse the XML files with a step of 2 by 2 to skip mac created files\n",
        "for name in [zf.namelist()[i] for i in range(len(zf.namelist())) if i % 2 == 0][2:]:\n",
        "  if '0' in name:\n",
        "    tree = ET.parse(zf.open(name))\n",
        "    root = tree.getroot()\n",
        "\n",
        "    ## find the root of each part of the Element Tree of the XML files and assign to variable \n",
        "    width = root.find('size').find('width').text\n",
        "    height = root.find('size').find('height').text\n",
        "    xmin = root.find('object').find('bndbox').find('xmin').text\n",
        "    ymin = root.find('object').find('bndbox').find('ymin').text\n",
        "    xmax = root.find('object').find('bndbox').find('xmax').text\n",
        "    ymax = root.find('object').find('bndbox').find('ymax').text\n",
        "\n",
        "    ## Assigns assigned variables to the file name and adds to dictionary\n",
        "    imgBoxDict[root.find('filename').text] = Box(width, height, xmin, ymin, xmax, ymax)\n",
        "\n",
        "    folder = root.find('folder').text\n",
        "    filename = root.find('filename').text\n",
        "    path = root.find('path').text\n",
        "    database = root.find('source').find('database').text\n",
        "    depth = root.find('size').find('depth').text\n",
        "    segmented = root.find('segmented').text\n",
        "    name = root.find('object').find('name').text\n",
        "    pose = root.find('object').find('pose').text\n",
        "    truncated = root.find('object').find('truncated').text\n",
        "    difficult = root.find('object').find('difficult').text\n",
        "\n",
        "    imgOtherParametersDict[root.find('filename').text] = ImgOtherParameters(folder, filename, path, database, depth, segmented, name, pose, truncated, difficult)"
      ],
      "metadata": {
        "id": "wTlcWMvAPp_I"
      },
      "execution_count": null,
      "outputs": []
    },
    {
      "cell_type": "code",
      "source": [
        "## print each item in the images dictionary along with the BBox variables assigned above \n",
        "for i in imgBoxDict:\n",
        "  print(i + \": \" + str(imgBoxDict[i]))"
      ],
      "metadata": {
        "colab": {
          "base_uri": "https://localhost:8080/"
        },
        "id": "0rVAFTw7nC-D",
        "outputId": "5abcbf1a-3e7a-4f5c-9a9c-5323224b4b5f"
      },
      "execution_count": null,
      "outputs": [
        {
          "output_type": "stream",
          "name": "stdout",
          "text": [
            "01.jpg: 1100; 618; 269; 39; 826; 600;\n",
            "03.jpg: 637; 421; 439; 81; 482; 127;\n",
            "02.jpg: 2000; 1333; 237; 319; 1018; 1172;\n",
            "06.jpg: 640; 427; 43; 226; 164; 339;\n",
            "05.jpg: 1200; 817; 919; 622; 999; 703;\n",
            "04.jpg: 1920; 1200; 1041; 698; 1753; 1079;\n"
          ]
        }
      ]
    },
    {
      "cell_type": "code",
      "source": [
        "# create variables for final image sizes - used to resize\n",
        "x_final = 800\n",
        "y_final = 450"
      ],
      "metadata": {
        "id": "Vv4qwjmfuqLD"
      },
      "execution_count": null,
      "outputs": []
    },
    {
      "cell_type": "code",
      "source": [
        "# Generate dictionary for final images after resizing \n",
        "imgBoxDictFinal = {}"
      ],
      "metadata": {
        "id": "G4T-__yPxxLN"
      },
      "execution_count": null,
      "outputs": []
    },
    {
      "cell_type": "code",
      "source": [
        "# Scale_factor used to calculate the new bbox coordinates of the resized images\n",
        "for i in imgBoxDict:\n",
        "  x_scale_factor = x_final / imgBoxDict[i].width \n",
        "  y_scale_factor = y_final / imgBoxDict[i].height  \n",
        "\n",
        "  # calculate the new coordinates\n",
        "  xmin_new = imgBoxDict[i].xmin * x_scale_factor\n",
        "  xmax_new = imgBoxDict[i].xmax * x_scale_factor\n",
        "  ymin_new = imgBoxDict[i].ymin * y_scale_factor\n",
        "  ymax_new = imgBoxDict[i].ymax * y_scale_factor\n",
        "\n",
        "  # adds new coordinates to the final dictionary\n",
        "  imgBoxDictFinal[i] = Box(x_final, y_final, xmin_new, ymin_new, xmax_new, ymax_new)"
      ],
      "metadata": {
        "id": "xvqBBsTFsJNM"
      },
      "execution_count": null,
      "outputs": []
    },
    {
      "cell_type": "code",
      "source": [
        "# prints old box coordinates in first for loop\n",
        "# seccond for loop prints the new coordinates \n",
        "for i in imgBoxDict:\n",
        "  print(i + \": \" + str(imgBoxDict[i]))\n",
        "\n",
        "for i in imgBoxDictFinal:\n",
        "  print(i + \": \" + str(imgBoxDictFinal[i]))"
      ],
      "metadata": {
        "colab": {
          "base_uri": "https://localhost:8080/"
        },
        "id": "Yc4kComwySVa",
        "outputId": "995fa904-8fbb-425d-a7b1-b20b38cf78a1"
      },
      "execution_count": null,
      "outputs": [
        {
          "output_type": "stream",
          "name": "stdout",
          "text": [
            "01.jpg: 1100; 618; 269; 39; 826; 600;\n",
            "03.jpg: 637; 421; 439; 81; 482; 127;\n",
            "02.jpg: 2000; 1333; 237; 319; 1018; 1172;\n",
            "06.jpg: 640; 427; 43; 226; 164; 339;\n",
            "05.jpg: 1200; 817; 919; 622; 999; 703;\n",
            "04.jpg: 1920; 1200; 1041; 698; 1753; 1079;\n",
            "01.jpg: 800; 450; 195; 28; 600; 436;\n",
            "03.jpg: 800; 450; 551; 86; 605; 135;\n",
            "02.jpg: 800; 450; 94; 107; 407; 395;\n",
            "06.jpg: 800; 450; 53; 238; 205; 357;\n",
            "05.jpg: 800; 450; 612; 342; 666; 387;\n",
            "04.jpg: 800; 450; 433; 261; 730; 404;\n"
          ]
        }
      ]
    },
    {
      "cell_type": "code",
      "source": [
        "# read the image folder stored in the GDrive\n",
        "f = r'/content/gdrive/MyDrive/Internship/images'"
      ],
      "metadata": {
        "id": "1vb9eBGpqErE"
      },
      "execution_count": null,
      "outputs": []
    },
    {
      "cell_type": "code",
      "source": [
        "# print the list directory of the image names within the file \n",
        "os.listdir(f)"
      ],
      "metadata": {
        "colab": {
          "base_uri": "https://localhost:8080/"
        },
        "id": "GK9gaOSWmtPh",
        "outputId": "eca48170-235a-4b92-9523-ead30d61d885"
      },
      "execution_count": null,
      "outputs": [
        {
          "output_type": "execute_result",
          "data": {
            "text/plain": [
              "['05.jpg', '06.jpg', '04.jpg', '02.jpg', '01.jpg', '03.jpg']"
            ]
          },
          "metadata": {},
          "execution_count": 31
        }
      ]
    },
    {
      "cell_type": "code",
      "source": [
        "# attempt to create new folder for resized images \n",
        "# open each file, reset the size to the defined sizes\n",
        "# save resized files in the new folder \n",
        "try:\n",
        "  os.mkdir(\"/content/gdrive/MyDrive/Internship/imagesresized\")\n",
        "except:\n",
        "  print(\"Folder already exists\")\n",
        "\n",
        "for file in os.listdir(f):\n",
        "  img = Image.open(f+\"/\"+file)\n",
        "  img = img.resize((x_final, y_final))\n",
        "  img.save(f+\"resized/\"+file + ' resized.jpg', 'JPEG', quality=90)"
      ],
      "metadata": {
        "id": "J6fYBbZhsIKD",
        "colab": {
          "base_uri": "https://localhost:8080/"
        },
        "outputId": "9c28a18b-4fec-44ae-8c9d-d5cef0c8970e"
      },
      "execution_count": null,
      "outputs": [
        {
          "output_type": "stream",
          "name": "stdout",
          "text": [
            "Folder already exists\n"
          ]
        }
      ]
    },
    {
      "cell_type": "code",
      "source": [
        "# concatenates all image data from dictionary \n",
        "\n",
        "images = \"\"\n",
        "for i in imgBoxDictFinal:\n",
        "  images += ('{\"folder\":\"'+imgOtherParametersDict[i].folder+\n",
        "             '\", \"filename\":\"'+imgOtherParametersDict[i].filename+\n",
        "             '\", \"path\":\"'+imgOtherParametersDict[i].path+\n",
        "             '\", \"source\": { \"database\": \"'+imgOtherParametersDict[i].database+\n",
        "             '\"}, \"size\": { \"width\": \"'+str(imgBoxDictFinal[i].width)+'\", \"height\": \"'+str(imgBoxDictFinal[i].height)+'\", \"depth\": \"'+imgOtherParametersDict[i].depth+\n",
        "             '\"}, \"segmented\":\"'+imgOtherParametersDict[i].segmented+\n",
        "             '\", \"object\": { \"name\": \"'+imgOtherParametersDict[i].name+'\", \"pose\": \"'+imgOtherParametersDict[i].pose+'\", \"truncated\": \"'+imgOtherParametersDict[i].truncated+'\", \"difficult\": \"'+imgOtherParametersDict[i].difficult+'\", \"bndbox\": { \"xmin\": \"'+str(imgBoxDictFinal[i].xmin)+'\", \"ymin\": \"'+str(imgBoxDictFinal[i].ymin)+'\", \"xmax\": \"'+str(imgBoxDictFinal[i].xmax)+'\", \"ymax\": \"'+str(imgBoxDictFinal[i].ymax)+\n",
        "             '\"}}},')\n",
        "\n",
        "# conversion of json ad hoc string into an effective JSON file\n",
        "jsonFile = json.dumps(json.loads(\"{\\\"images\\\": [\"+images[:-1]+\"]}\"))\n",
        "\n",
        "#writes and encodes the JSON file and saves as a .txt file\n",
        "with open('json.txt', 'w') as f:\n",
        "  f.write(str(jsonFile.encode('utf-8')))\n",
        "\n",
        "# downloads the .txt file\n",
        "files.download('json.txt')"
      ],
      "metadata": {
        "colab": {
          "base_uri": "https://localhost:8080/",
          "height": 17
        },
        "id": "YSXmbaqmzq_C",
        "outputId": "e5ef1b4a-f7fe-46ad-ecba-7829248f2ae5"
      },
      "execution_count": null,
      "outputs": [
        {
          "output_type": "display_data",
          "data": {
            "text/plain": [
              "<IPython.core.display.Javascript object>"
            ],
            "application/javascript": [
              "\n",
              "    async function download(id, filename, size) {\n",
              "      if (!google.colab.kernel.accessAllowed) {\n",
              "        return;\n",
              "      }\n",
              "      const div = document.createElement('div');\n",
              "      const label = document.createElement('label');\n",
              "      label.textContent = `Downloading \"${filename}\": `;\n",
              "      div.appendChild(label);\n",
              "      const progress = document.createElement('progress');\n",
              "      progress.max = size;\n",
              "      div.appendChild(progress);\n",
              "      document.body.appendChild(div);\n",
              "\n",
              "      const buffers = [];\n",
              "      let downloaded = 0;\n",
              "\n",
              "      const channel = await google.colab.kernel.comms.open(id);\n",
              "      // Send a message to notify the kernel that we're ready.\n",
              "      channel.send({})\n",
              "\n",
              "      for await (const message of channel.messages) {\n",
              "        // Send a message to notify the kernel that we're ready.\n",
              "        channel.send({})\n",
              "        if (message.buffers) {\n",
              "          for (const buffer of message.buffers) {\n",
              "            buffers.push(buffer);\n",
              "            downloaded += buffer.byteLength;\n",
              "            progress.value = downloaded;\n",
              "          }\n",
              "        }\n",
              "      }\n",
              "      const blob = new Blob(buffers, {type: 'application/binary'});\n",
              "      const a = document.createElement('a');\n",
              "      a.href = window.URL.createObjectURL(blob);\n",
              "      a.download = filename;\n",
              "      div.appendChild(a);\n",
              "      a.click();\n",
              "      div.remove();\n",
              "    }\n",
              "  "
            ]
          },
          "metadata": {}
        },
        {
          "output_type": "display_data",
          "data": {
            "text/plain": [
              "<IPython.core.display.Javascript object>"
            ],
            "application/javascript": [
              "download(\"download_085bbd26-a4e9-4f45-8991-277e9f032d59\", \"json.txt\", 2350)"
            ]
          },
          "metadata": {}
        }
      ]
    }
  ]
}